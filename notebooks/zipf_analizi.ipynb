{
 "cells": [
  {
   "cell_type": "code",
   "execution_count": 1,
   "id": "6d327026-7fd5-415a-af55-698871fd925c",
   "metadata": {},
   "outputs": [
    {
     "name": "stderr",
     "output_type": "stream",
     "text": [
      "[nltk_data] Downloading package punkt to\n",
      "[nltk_data]     C:\\Users\\Bilinmiyor\\AppData\\Roaming\\nltk_data...\n",
      "[nltk_data]   Package punkt is already up-to-date!\n"
     ]
    },
    {
     "data": {
      "text/plain": [
       "True"
      ]
     },
     "execution_count": 1,
     "metadata": {},
     "output_type": "execute_result"
    }
   ],
   "source": [
    "import pandas as pd\n",
    "import re\n",
    "import numpy as np\n",
    "import matplotlib.pyplot as plt\n",
    "from collections import Counter\n",
    "import nltk\n",
    "\n",
    "nltk.download('punkt')"
   ]
  },
  {
   "cell_type": "code",
   "execution_count": 2,
   "id": "1a70de5b-c8be-4be2-a043-3949713c1034",
   "metadata": {},
   "outputs": [],
   "source": [
    "df = pd.read_csv(\"../data/birlesik_aciklama.csv\", header=None, names=[\"aciklama\"])"
   ]
  },
  {
   "cell_type": "code",
   "execution_count": 3,
   "id": "f6973c51-f3b0-4890-89ac-e01c29b06f29",
   "metadata": {},
   "outputs": [
    {
     "data": {
      "text/html": [
       "<div>\n",
       "<style scoped>\n",
       "    .dataframe tbody tr th:only-of-type {\n",
       "        vertical-align: middle;\n",
       "    }\n",
       "\n",
       "    .dataframe tbody tr th {\n",
       "        vertical-align: top;\n",
       "    }\n",
       "\n",
       "    .dataframe thead th {\n",
       "        text-align: right;\n",
       "    }\n",
       "</style>\n",
       "<table border=\"1\" class=\"dataframe\">\n",
       "  <thead>\n",
       "    <tr style=\"text-align: right;\">\n",
       "      <th></th>\n",
       "      <th>aciklama</th>\n",
       "    </tr>\n",
       "  </thead>\n",
       "  <tbody>\n",
       "    <tr>\n",
       "      <th>0</th>\n",
       "      <td>Aciklama</td>\n",
       "    </tr>\n",
       "    <tr>\n",
       "      <th>1</th>\n",
       "      <td>NTC sensor short circuit or open circuit</td>\n",
       "    </tr>\n",
       "    <tr>\n",
       "      <th>2</th>\n",
       "      <td>Heater short circuit</td>\n",
       "    </tr>\n",
       "    <tr>\n",
       "      <th>3</th>\n",
       "      <td>Heater continuously operating</td>\n",
       "    </tr>\n",
       "    <tr>\n",
       "      <th>4</th>\n",
       "      <td>Continuous water intake error</td>\n",
       "    </tr>\n",
       "    <tr>\n",
       "      <th>...</th>\n",
       "      <td>...</td>\n",
       "    </tr>\n",
       "    <tr>\n",
       "      <th>431</th>\n",
       "      <td>Oxygen Sensor Circuit – Bank 1 Sensor 2 Circui...</td>\n",
       "    </tr>\n",
       "    <tr>\n",
       "      <th>432</th>\n",
       "      <td>Series Throttle Control Error</td>\n",
       "    </tr>\n",
       "    <tr>\n",
       "      <th>433</th>\n",
       "      <td>Needle Lift Sensor Malfunction</td>\n",
       "    </tr>\n",
       "    <tr>\n",
       "      <th>434</th>\n",
       "      <td>Fuel Pump Secondary Circuit Malfunction</td>\n",
       "    </tr>\n",
       "    <tr>\n",
       "      <th>435</th>\n",
       "      <td>Engine Coolant Temperature Circuit Malfunction</td>\n",
       "    </tr>\n",
       "  </tbody>\n",
       "</table>\n",
       "<p>436 rows × 1 columns</p>\n",
       "</div>"
      ],
      "text/plain": [
       "                                              aciklama\n",
       "0                                             Aciklama\n",
       "1             NTC sensor short circuit or open circuit\n",
       "2                                 Heater short circuit\n",
       "3                        Heater continuously operating\n",
       "4                        Continuous water intake error\n",
       "..                                                 ...\n",
       "431  Oxygen Sensor Circuit – Bank 1 Sensor 2 Circui...\n",
       "432                      Series Throttle Control Error\n",
       "433                     Needle Lift Sensor Malfunction\n",
       "434            Fuel Pump Secondary Circuit Malfunction\n",
       "435     Engine Coolant Temperature Circuit Malfunction\n",
       "\n",
       "[436 rows x 1 columns]"
      ]
     },
     "execution_count": 3,
     "metadata": {},
     "output_type": "execute_result"
    }
   ],
   "source": [
    "df\n"
   ]
  },
  {
   "cell_type": "code",
   "execution_count": 4,
   "id": "683f589d-3782-4176-879a-368d3e193491",
   "metadata": {},
   "outputs": [],
   "source": [
    "\n",
    "\n",
    "def zipf_analysis(text_column, num_words=50):\n",
    "    # Geçersiz ve boş değerleri temizle\n",
    "    cleaned_texts = text_column.dropna().astype(str)\n",
    "\n",
    "    if cleaned_texts.empty:\n",
    "        print(\"Uyarı: Metin verisi boş. Analiz yapılamaz.\")\n",
    "        return\n",
    "\n",
    "    # Metinleri birleştir ve temizle\n",
    "    text = ' '.join(cleaned_texts).lower()\n",
    "    text = re.sub(r'[^\\w\\s]', '', text)\n",
    "\n",
    "    # Tokenizasyon\n",
    "    tokens = nltk.word_tokenize(text)\n",
    "    tokens = [token for token in tokens if token.isalpha()]\n",
    "\n",
    "    if not tokens:\n",
    "        print(\"Uyarı: Temizleme sonrası analiz yapılacak kelime kalmadı.\")\n",
    "        return\n",
    "\n",
    "    # Kelime sıklığı\n",
    "    word_counts = Counter(tokens)\n",
    "    most_common_words = word_counts.most_common(num_words)\n",
    "\n",
    "    # Sıra ve sıklık verileri\n",
    "    ranks = np.arange(1, len(most_common_words) + 1)\n",
    "    frequencies = [count for word, count in most_common_words]\n",
    "\n",
    "    # Grafik\n",
    "    plt.figure(figsize=(10, 6))\n",
    "    plt.loglog(ranks, frequencies, marker='o')\n",
    "    plt.xlabel('Kelime Sırası (log)')\n",
    "    plt.ylabel('Kelime Sıklığı (log)')\n",
    "    plt.title('Zipf Yasası Analizi (Ham Veri)')\n",
    "    plt.grid(True)\n",
    "    plt.show()\n",
    "\n",
    "    # Bilgi çıktısı\n",
    "    print(f\"Toplam kelime sayısı: {len(tokens)}\")\n",
    "    print(f\"Farklı kelime sayısı: {len(word_counts)}\")\n",
    "\n",
    "    if len(tokens) < 10000:\n",
    "        print(\"Veri seti küçük. Zipf analizi sınırlı genellenebilir.\")\n",
    "    else:\n",
    "        print(\"Veri seti yeterli büyüklükte.\")\n"
   ]
  },
  {
   "cell_type": "code",
   "execution_count": 5,
   "id": "2721ee9d-1511-4f81-9678-49b72af021d4",
   "metadata": {},
   "outputs": [
    {
     "data": {
      "image/png": "[encoded data removed]",
      "text/plain": [
       "<Figure size 1000x600 with 1 Axes>"
      ]
     },
     "metadata": {},
     "output_type": "display_data"
    },
    {
     "name": "stdout",
     "output_type": "stream",
     "text": [
      "Toplam kelime sayısı: 2002\n",
      "Farklı kelime sayısı: 388\n",
      "Veri seti küçük. Zipf analizi sınırlı genellenebilir.\n"
     ]
    }
   ],
   "source": [
    "df = pd.read_csv(\"../data/birlesik_aciklama.csv\", header=None, names=[\"aciklama\"])\n",
    "zipf_analysis(df[\"aciklama\"])\n"
   ]
  },
  {
   "cell_type": "code",
   "execution_count": null,
   "id": "9f145e61-abba-4e8c-b428-e7890c5e8e94",
   "metadata": {},
   "outputs": [],
   "source": []
  }
 ],
 "metadata": {
  "kernelspec": {
   "display_name": "Python 3 (ipykernel)",
   "language": "python",
   "name": "python3"
  },
  "language_info": {
   "codemirror_mode": {
    "name": "ipython",
    "version": 3
   },
   "file_extension": ".py",
   "mimetype": "text/x-python",
   "name": "python",
   "nbconvert_exporter": "python",
   "pygments_lexer": "ipython3",
   "version": "3.11.5"
  }
 },
 "nbformat": 4,
 "nbformat_minor": 5
}
