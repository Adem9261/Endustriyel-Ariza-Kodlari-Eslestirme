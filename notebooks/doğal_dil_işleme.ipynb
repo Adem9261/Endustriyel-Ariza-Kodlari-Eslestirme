{
 "cells": [
  {
   "cell_type": "code",
   "execution_count": 1,
   "id": "ff2298d2-c766-46ad-a802-413ae1c1cc06",
   "metadata": {},
   "outputs": [],
   "source": [
    "import nltk\n",
    "from nltk.tokenize import word_tokenize, sent_tokenize\n",
    "from nltk.corpus import stopwords\n",
    "from nltk.stem import WordNetLemmatizer, PorterStemmer\n",
    "import csv\n",
    "import pandas as pd\n",
    "import numpy as np\n",
    "import re"
   ]
  },
  {
   "cell_type": "code",
   "execution_count": 2,
   "id": "6eb8b2fa-33e3-44ec-8719-22fe052f96a2",
   "metadata": {},
   "outputs": [
    {
     "name": "stderr",
     "output_type": "stream",
     "text": [
      "[nltk_data] Downloading package punkt to\n",
      "[nltk_data]     C:\\Users\\Bilinmiyor\\AppData\\Roaming\\nltk_data...\n",
      "[nltk_data]   Package punkt is already up-to-date!\n",
      "[nltk_data] Downloading package stopwords to\n",
      "[nltk_data]     C:\\Users\\Bilinmiyor\\AppData\\Roaming\\nltk_data...\n",
      "[nltk_data]   Package stopwords is already up-to-date!\n",
      "[nltk_data] Downloading package wordnet to\n",
      "[nltk_data]     C:\\Users\\Bilinmiyor\\AppData\\Roaming\\nltk_data...\n",
      "[nltk_data]   Package wordnet is already up-to-date!\n"
     ]
    },
    {
     "data": {
      "text/plain": [
       "True"
      ]
     },
     "execution_count": 2,
     "metadata": {},
     "output_type": "execute_result"
    }
   ],
   "source": [
    " nltk.download('punkt')\n",
    " nltk.download('stopwords')\n",
    " nltk.download('wordnet')"
   ]
  },
  {
   "cell_type": "code",
   "execution_count": 5,
   "id": "f0626228-dc26-472e-a7d7-b9d3a7cdf060",
   "metadata": {},
   "outputs": [],
   "source": [
    "# Birleştirilmiş veri setini yükle\n",
    "df= pd.read_csv(\"../data/birlesik_aciklama.csv\")"
   ]
  },
  {
   "cell_type": "code",
   "execution_count": 6,
   "id": "792bd16f-1239-45e4-86d1-edcd2e7085cc",
   "metadata": {},
   "outputs": [
    {
     "data": {
      "text/html": [
       "<div>\n",
       "<style scoped>\n",
       "    .dataframe tbody tr th:only-of-type {\n",
       "        vertical-align: middle;\n",
       "    }\n",
       "\n",
       "    .dataframe tbody tr th {\n",
       "        vertical-align: top;\n",
       "    }\n",
       "\n",
       "    .dataframe thead th {\n",
       "        text-align: right;\n",
       "    }\n",
       "</style>\n",
       "<table border=\"1\" class=\"dataframe\">\n",
       "  <thead>\n",
       "    <tr style=\"text-align: right;\">\n",
       "      <th></th>\n",
       "      <th>Aciklama</th>\n",
       "    </tr>\n",
       "  </thead>\n",
       "  <tbody>\n",
       "    <tr>\n",
       "      <th>0</th>\n",
       "      <td>NTC sensor short circuit or open circuit</td>\n",
       "    </tr>\n",
       "    <tr>\n",
       "      <th>1</th>\n",
       "      <td>Heater short circuit</td>\n",
       "    </tr>\n",
       "    <tr>\n",
       "      <th>2</th>\n",
       "      <td>Heater continuously operating</td>\n",
       "    </tr>\n",
       "    <tr>\n",
       "      <th>3</th>\n",
       "      <td>Continuous water intake error</td>\n",
       "    </tr>\n",
       "    <tr>\n",
       "      <th>4</th>\n",
       "      <td>Water drainage error</td>\n",
       "    </tr>\n",
       "  </tbody>\n",
       "</table>\n",
       "</div>"
      ],
      "text/plain": [
       "                                   Aciklama\n",
       "0  NTC sensor short circuit or open circuit\n",
       "1                      Heater short circuit\n",
       "2             Heater continuously operating\n",
       "3             Continuous water intake error\n",
       "4                      Water drainage error"
      ]
     },
     "execution_count": 6,
     "metadata": {},
     "output_type": "execute_result"
    }
   ],
   "source": [
    "df.head()"
   ]
  },
  {
   "cell_type": "code",
   "execution_count": 7,
   "id": "1927415b-c257-46e9-b0f7-8d1c901f1ce8",
   "metadata": {},
   "outputs": [
    {
     "name": "stdout",
     "output_type": "stream",
     "text": [
      "Veri Seti Bilgisi:\n",
      "<class 'pandas.core.frame.DataFrame'>\n",
      "RangeIndex: 435 entries, 0 to 434\n",
      "Data columns (total 1 columns):\n",
      " #   Column    Non-Null Count  Dtype \n",
      "---  ------    --------------  ----- \n",
      " 0   Aciklama  435 non-null    object\n",
      "dtypes: object(1)\n",
      "memory usage: 3.5+ KB\n",
      "None\n",
      "\n",
      "İlk 5 Satır:\n",
      "| Aciklama                                 |\n",
      "|:-----------------------------------------|\n",
      "| NTC sensor short circuit or open circuit |\n",
      "| Heater short circuit                     |\n",
      "| Heater continuously operating            |\n",
      "| Continuous water intake error            |\n",
      "| Water drainage error                     |\n",
      "\n",
      "Eksik Veri Sayısı:\n",
      "Aciklama    0\n",
      "dtype: int64\n"
     ]
    }
   ],
   "source": [
    "# Veri setini incele\n",
    "print(\"Veri Seti Bilgisi:\")\n",
    "print(df.info())\n",
    "\n",
    "print(\"\\nİlk 5 Satır:\")\n",
    "print(df.head().to_markdown(index=False, numalign=\"left\", stralign=\"left\"))\n",
    "\n",
    "print(\"\\nEksik Veri Sayısı:\")\n",
    "print(df.isnull().sum())"
   ]
  },
  {
   "cell_type": "code",
   "execution_count": 8,
   "id": "9d8ce4c7-0bac-451f-aef7-9feea17a7867",
   "metadata": {},
   "outputs": [],
   "source": [
    "def stem_text(text):\n",
    "  # Küçük harfe çevirme\n",
    "  text = text.lower()\n",
    "  # Noktalama işaretlerini kaldırma\n",
    "  text = re.sub(r'[^\\w\\s]', '', text)"
   ]
  },
  {
   "cell_type": "code",
   "execution_count": 11,
   "id": "40e43a8c-37fb-4dd0-a96f-86ed365a630e",
   "metadata": {},
   "outputs": [
    {
     "name": "stdout",
     "output_type": "stream",
     "text": [
      "['NTC sensor short circuit or open circuit Heater short circuit Heater continuously operating Continuous water intake error Water drainage error Motor triac short circuit Water level sensor error Motor open circuit Aqua stop failure Rinse sensor NTC short circuit or open circuit Heater short circuit Heater continuously operating Valve short circuit Pump not draining water Motor short circuit Water level sensor faulty Pump short circuit Door lock open circuit Door lock short circuit Motor windings open circuit Aqua stop failure Motor module or communication cable faulty Jet pump open circuit Flow meter open short circuit Rinse sensor short circuit Laundry remains foamy Unbalanced load in the machine Safe water drainage level activated Communication cable fault between LCD board and main board Door switch not working Load sensor not working Communication cable fault between control panel and main board Main board cannot be written or read Level sensor control and flow meter control Mains voltage out of limits NTC short circuit or open circuit Air duct open or flap closed No communication with D sensor Drying heater open circuit Overheating in the drum Overheating at condenser inlet Overheating at condenser outlet NTC short circuit or open circuit Heater short circuit Heater continuously operating Valve triac short circuit Pump not draining water Motor triac short circuit Water level sensor faulty Pump short circuit Door lock open circuit Door triac short circuit Motor triac open circuit Water source error + A2:A13 Water temperature sensor error Water level error Water drainage error Water supply error Electrical error Water temperature high Water temperature low Water heating error Door open Water filling error Water pressure error Water leakage error Elevator height limit exceeded Door not opened or attempted to move with door open Elevator does not move in overload condition Brake not released or brake system error Jerk occurred during sudden stop Vibration during deceleration or stopping Elevator stopped moving and an error occurred in the control unit Power supply error in the elevator Elevator does not operate in excessively high temperature Cabin door lock system faulty Driver fan error Internal temperature error Control supply error Input phase error Capacitor voltage error Output phase error Driver overheating error DC overvoltage error AC overvoltage error DC overcurrent error AC overcurrent error Brake error Encoder error Low DC voltage error Line frequency error Internal communication error Software error Input signal error Output signal error Output overload error Driver overvoltage error Driver undervoltage error DC voltage error DC current error Driver overload error Internal thermal protection triggered External thermal protection triggered Motor protection triggered Temperature sensor error Fan failure Processor failure DC bus voltage high DC bus voltage low Input phase loss Input voltage high Input voltage low Output phase loss Output overcurrent DC current high Excessive torque Software error Hardware error Module error Communication error Power supply error Temperature sensor error Fan failure Input phase loss Input voltage high Input voltage low Output phase loss Output overcurrent DC current high Excessive torque Software error Hardware error Module error Communication error Power supply error Temperature sensor error Fan failure Input phase loss Input voltage high Input voltage low Output phase loss Output overcurrent DC current high Excessive torque Software error Hardware error Module error Communication error Power supply error High hydraulic oil temperature Low hydraulic oil level High hydraulic oil level Electrical failure Engine oil pressure low Engine oil pressure high Brake switch failure Low oil pressure High oil pressure Low fuel level Hydraulic oil filter clogged Hydraulic oil filter pressure low Hydraulic oil filter pressure high Fuel filter clogged Engine idle speed high Engine idle speed low Air filter clogged Air filter pressure low Air filter pressure high Hydraulic oil temperature high Hydraulic oil cooler clogged Water temperature high Water level low Water level high Fuel water separator clogged Oil cooler temperature high Oil cooler clogged Transmission oil temperature high Transmission oil level low Transmission oil level high Transmission oil filter clogged Transmission oil filter pressure low Transmission oil filter pressure high Left joystick failure Right joystick failure Left pedal failure Right pedal failure Left arm failure Right arm failure Left steering failure Right steering failure Steering drive motor failure Safety latch disabled Cabin safety lock failure Left cheek failure Right cheek failure Left mirror failure Right mirror failure Front window failure Overcurrent or overheating Low DC voltage or DC error Output phase loss or phase error Overspeed or excessive torque Encoder error Power supply error Communication error or control card error Brake error Low voltage or voltage fluctuation Air hose connection error Air pressure not detected Air pressure excessively high Air pressure excessively low Cuff issue Irregular heartbeat detected Operation error Air filter clogged Insufficient water level Medication tube clogged or medication tube connection error Nebulization nozzle clogged Operating time exceeded Medication tube empty or removed Error (usually specified with error code) Communication error Hard disk error Central processor error Input Output module error Software error Overcurrent Overvoltage Fan not working Internal overheating External overheating Driver error Does not affect operation clear the alarm Inspect load temperature perform repair During unit output sensor control inspect load perform repair During unit return sensor control inspect load perform repair Unit operating at low capacity perform necessary repair Unit operating at low capacity perform necessary repair Unit operating at low capacity perform necessary repair Multiple compartment unit Unit stopped to prevent damage repair immediately Unit stopped to prevent damage try again repair immediately Unit under another sensor control (alarm3-4) repair Unit stopped to prevent damage repair immediately Check compartment temperature with a thermometer Clear alarm repair after load Repair after load Motor did not start manually clear alarm and try again Try again in continuous operation mode repair as necessary Check belt tensions and water level control Top up engine oil perform repair as necessary Check fuel operate in continuous mode perform necessary repair Check load and perform necessary repair Check load perform necessary repair Unit stopped to prevent damage repair immediately Unit stopped to prevent damage repair immediately Check alternator charging repair immediately Check load perform necessary repair Self-test & pre-load test completed check other alarms Unit not defrosting check load perform repair Defrost damper stuck closed repair immediately Unit operating at low capacity or not working perform necessary repair Unit stopped to prevent damage repair immediately Check and record engine RPM perform necessary repair Check modulation circuit breaker and fuse perform repair Check operating relay circuit and perform repair Check incoming current inspect motor belts and perform repair Check and top up motor water level Current reversed voltage low or excessive load Unit operating at low temperature inspect load perform necessary repair Test high RPM Check water level and belt tension Temporary high temperature perform necessary repair Temporary high temperature perform necessary repair Check tank fuel clean fuel system if necessary Operating in low modulation circuit repair after load Load obstructing airflow check loading Multiple compartment sensor failure Clutch and belt slipping perform necessary repair Satellite communication not working Operation normal reset hours Second protection circuit failure repair Unable to heat perform repair Low circuit heating perform necessary repair Timeout shutdown during test does not affect operation Check engine RPM Check battery voltage and amperage Ammeter calibration test Unknown cause check fuel in particular try restarting Does not affect operation perform test clear alarms Check engine oil level top up oil Operating at low capacity inspect load perform repair Clear alarm try again inspect load perform repair Does not affect operation in any way Does not affect operation in any way Does not affect operation in any way Does not affect operation in any way Retest Processor may be faulty have it repaired Processor may be faulty have it repaired Processor may be faulty have it repaired Processor may be faulty have it repaired Clear alarm Compressor protection tripped have it repaired Compressor operating at excessive temperature repair quickly Stopped to prevent damage repair quickly Low heating capacity have it repaired Check other alarms and repair if unit stops If yellow alarm operating at low capacity perform repair Check voltage at 380V three-phase Check voltage Check sensor numbers (from menu) Check suction pressure Check circuit input Check circuit input For units transported on trains Test sensor Check with indicators Unit operating in low heating mode Unit operating in low heating mode Unit operating at low capacity Alarm due to compartment door left open for too long close door and clear alarm High output pressure or output sensor high RPM protection Unit operating at low capacity inspect load and perform necessary repair Microprocessor not set for the unit urgently reset Compartment fan not working perform necessary repair Electric heating problem perform necessary repair Stopped to prevent damage check alarms perform necessary repair Check high-pressure switch Check circuit Check circuit and relay Check circuit and relay Check circuit Check both circuits Enter set temperature Check maintenance hours Check maintenance hours Check maintenance hours Check maintenance hours Check maintenance hours Check maintenance hours Check connections Check spare output Check damper motor heater Sensor control Sensor control Heater does not start Ignition cuts off Low or high battery voltage Ignition failure Flame detector disabled or short circuit Overheating sensor disabled or short circuit Fuel pump disabled or short circuit Blower motor flow error Ignition spark plug disabled Overheating Low fuel level in the engine Heater locked Insufficient fuel pump pressure Excessive battery charge Fuel supply error Flame sensor error Combustion error Electrical supply error System operating normally no error Combustion sensor or ignition device may be faulty Fuel supply valve may be faulty Error occurred during combustion Air intake or combustion gas exhaust may be restricted Low battery voltage or ignition device may be faulty Fuel supply error or insufficient fuel supply pressure Fuel pump or fuel filter may be faulty Low fuel level or insufficient fuel quality Combustion sensor or ignition device may be faulty Insufficient combustion air or combustion air sensor faulty Combustion tube clogged or combustion tube ventilation hole clogged Combustion sensor faulty or issue with combustion sensor cable Fuel supply pump faulty or issue with fuel supply pump cable MAF Air Flow Circuit Range Performance Problem MAF Air Flow Circuit Low Input MAF Air Flow Circuit High Input Integrated Circuit Temperature Sensor High Input Engine Temperature Sensor High Input Throttle Position Sensor Circuit Low Input Throttle Position Sensor Circuit High Input Oxygen Sensor Circuit Malfunction (Bank 1 Sensor 1) Oxygen Sensor Circuit Slow Response (Bank 1 Sensor 1) Oxygen Sensor Heater Circuit Malfunction (Bank 1 Sensor 1) Fuel Air Mixture Lean (Bank 1) Fuel Air Mixture Rich (Bank 1) Random Multiple Cylinder Misfire Detected Cylinder 1 Misfire Detected Cylinder 2 Misfire Detected Cylinder 3 Misfire Detected Cylinder 4 Misfire Detected Cylinder 1 Knock Sensor Circuit Malfunction Cylinder 1 Knock Sensor Circuit Low Input Cylinder 1 Knock Sensor Circuit High Input Exhaust Gas Recirculation Circuit Malfunction Exhaust Gas Recirculation Circuit Performance Catalytic Converter Efficiency Below Threshold (Bank 1) Evaporative Emission Control System Malfunction Evaporative Emission Control System Performance Small Evaporative Emission Control System Leak Detected Evaporative Emission Control System Control Valve Circuit Malfunction Vehicle Speed Sensor Circuit Malfunction Throttle Control Malfunction Low Charge Condition A Camshaft Position Actuator Circuit (Bank 1) Air Flow Circuit Mass or Volume Range Performance Problem System Too Lean (Bank 1) Random Multiple Cylinder Misfire Detected Ignition Distributor Engine Speed Input Circuit No Signal Exhaust Gas Recirculation Flow Insufficient Detected Catalytic Converter System Efficiency Below Threshold (Bank 1) Evaporative Emission Control System Malfunction Evaporative Emission Control System Leak Detected (large leak) Idle Control System RPM Lower Than Expected Internal Control Module Memory Checksum Error Generator Control Circuit Malfunction Transmission Control System Malfunction Output Speed Sensor Circuit Malfunction Torque Converter Clutch Circuit Malfunction Shift Solenoid A Malfunction Mass Air Flow Sensor Self-Test Out of Range Long-Term Fuel Trim B1 System Too Lean Long-Term Fuel Trim Additional Fuel B1 System Too Lean Load Calculation Cross Check Range Performance Problem Fuel System Lean During Acceleration B1 Fuel Delivery System Malfunction – High Fuel Control Bank 1 Sensor 1 Signal Out of Range Oxygen Sensor Circuit – Bank 1 Sensor 2 Circuit High Voltage Series Throttle Control Error Needle Lift Sensor Malfunction Fuel Pump Secondary Circuit Malfunction Engine Coolant Temperature Circuit Malfunction']\n"
     ]
    }
   ],
   "source": [
    "text = ' '.join(df['Aciklama'].astype(str).tolist())  # Tüm açıklamaları tek bir metin haline getir\n",
    "sentences = sent_tokenize(text)  # Metni cümlelere ayır\n",
    "print(sentences[:10])  # İlk 10 cümleyi yazdır"
   ]
  },
  {
   "cell_type": "code",
   "execution_count": 12,
   "id": "942e6efa-b672-49a7-bf6a-4502086feaa5",
   "metadata": {},
   "outputs": [
    {
     "name": "stdout",
     "output_type": "stream",
     "text": [
      "[\"you'd\", 'theirs', \"i'd\", 'has', 'their', 'am', 'under', 'if', 'myself', 'such', 'some', 'itself', 'as', 'over', 'with', 'not', \"it'll\", 'once', 'that', 'of', 'in', \"won't\", 'my', \"mustn't\", 'out', 'shan', 'own', 'than', 'haven', 'no', 'through', 'or', \"she'd\", 'we', 'whom', 'ourselves', 'at', 'ours', 'doing', 'the', \"shan't\", 'ain', 'to', 'a', 'up', 'down', 'where', \"doesn't\", 'hasn', 'after']\n"
     ]
    }
   ],
   "source": [
    "# Stopwords listesini almak\n",
    "stop_words = set(stopwords.words('english')) # Stopwords listesini turkce almak icin: turkish\n",
    "stop_words_list = list(stop_words)\n",
    "print(stop_words_list[:50])"
   ]
  },
  {
   "cell_type": "code",
   "execution_count": 13,
   "id": "dd0c7f3d-913a-4d35-a032-5611dd89b90b",
   "metadata": {},
   "outputs": [],
   "source": [
    "# Lemmatizer ve Stemmer'ı başlat\n",
    "lemmatizer = WordNetLemmatizer()\n",
    "stemmer = PorterStemmer()"
   ]
  },
  {
   "cell_type": "code",
   "execution_count": 14,
   "id": "2917a3db-8a1e-4af4-ae3a-e2e309c86146",
   "metadata": {},
   "outputs": [],
   "source": [
    "# Kelimeleri tokenleştirip, lemmatize etme ve stemleme\n",
    "def preprocess_sentence(sentence):\n",
    " tokens = word_tokenize(sentence) # Cümleyi kelimelere ayır\n",
    "# Sadece harf olan kelimeleri al ve stopword'leri çıkar\n",
    " filtered_tokens = [token.lower() for token in tokens if token.isalpha() and token.lower() not in stop_words]\n",
    " lemmatized_tokens = [lemmatizer.lemmatize(token) for token in filtered_tokens] # Lemmatize etme\n",
    " stemmed_tokens = [stemmer.stem(token) for token in filtered_tokens] # Stemleme\n",
    " return lemmatized_tokens, stemmed_tokens"
   ]
  },
  {
   "cell_type": "code",
   "execution_count": 15,
   "id": "d6caa286-ef32-4f29-8dd3-c3d74564a55e",
   "metadata": {},
   "outputs": [],
   "source": [
    "# Her cümleyi tokenleştir, lemmatize et ve stemle\n",
    "tokenized_corpus_lemmatized = []\n",
    "tokenized_corpus_stemmed = []"
   ]
  },
  {
   "cell_type": "code",
   "execution_count": 16,
   "id": "34115b93-fa8d-4e4f-be6c-0a9f74de28d3",
   "metadata": {},
   "outputs": [],
   "source": [
    "for sentence in sentences:\n",
    " lemmatized_tokens, stemmed_tokens = preprocess_sentence(sentence)\n",
    " tokenized_corpus_lemmatized.append(lemmatized_tokens)\n",
    " tokenized_corpus_stemmed.append(stemmed_tokens)"
   ]
  },
  {
   "cell_type": "code",
   "execution_count": 17,
   "id": "d569b6eb-f554-4299-98a9-4a86958b44b3",
   "metadata": {},
   "outputs": [],
   "source": [
    "# lemmatize edılmıs cumlelerı bır csv dosyasına kaydedın.\n",
    "with open(\"lemmatized_sentences.csv\", mode=\"w\", newline=\"\", encoding=\"utf-8\") as file:\n",
    " writer = csv.writer(file)\n",
    "# Her cümleyi bir satır olarak yaz\n",
    " for tokens in tokenized_corpus_lemmatized:\n",
    "  writer.writerow([' '.join(tokens)])"
   ]
  },
  {
   "cell_type": "code",
   "execution_count": 18,
   "id": "aeaaed3d-2e56-467e-a854-f0b7986afc51",
   "metadata": {},
   "outputs": [],
   "source": [
    "# Stem edılmıs cumlelerı bır csv dosyasına kaydedın.\n",
    "\n",
    "\n",
    "with open(\"stemmed_sentences.csv\", mode=\"w\", newline=\"\", encoding=\"utf-8\") as file:\n",
    "    writer = csv.writer(file)\n",
    "    # Her cümleyi bir satır olarak yaz\n",
    "    for tokens in tokenized_corpus_stemmed:\n",
    "        writer.writerow([' '.join(tokens)])\n"
   ]
  },
  {
   "cell_type": "code",
   "execution_count": 19,
   "id": "f652b0bd-37ca-4a37-aa46-825b19e71bca",
   "metadata": {},
   "outputs": [
    {
     "name": "stdout",
     "output_type": "stream",
     "text": [
      "Cümle 1 - Base: NTC sensor short circuit or open circuit Heater short circuit Heater continuously operating Continuous water intake error Water drainage error Motor triac short circuit Water level sensor error Motor open circuit Aqua stop failure Rinse sensor NTC short circuit or open circuit Heater short circuit Heater continuously operating Valve short circuit Pump not draining water Motor short circuit Water level sensor faulty Pump short circuit Door lock open circuit Door lock short circuit Motor windings open circuit Aqua stop failure Motor module or communication cable faulty Jet pump open circuit Flow meter open short circuit Rinse sensor short circuit Laundry remains foamy Unbalanced load in the machine Safe water drainage level activated Communication cable fault between LCD board and main board Door switch not working Load sensor not working Communication cable fault between control panel and main board Main board cannot be written or read Level sensor control and flow meter control Mains voltage out of limits NTC short circuit or open circuit Air duct open or flap closed No communication with D sensor Drying heater open circuit Overheating in the drum Overheating at condenser inlet Overheating at condenser outlet NTC short circuit or open circuit Heater short circuit Heater continuously operating Valve triac short circuit Pump not draining water Motor triac short circuit Water level sensor faulty Pump short circuit Door lock open circuit Door triac short circuit Motor triac open circuit Water source error + A2:A13 Water temperature sensor error Water level error Water drainage error Water supply error Electrical error Water temperature high Water temperature low Water heating error Door open Water filling error Water pressure error Water leakage error Elevator height limit exceeded Door not opened or attempted to move with door open Elevator does not move in overload condition Brake not released or brake system error Jerk occurred during sudden stop Vibration during deceleration or stopping Elevator stopped moving and an error occurred in the control unit Power supply error in the elevator Elevator does not operate in excessively high temperature Cabin door lock system faulty Driver fan error Internal temperature error Control supply error Input phase error Capacitor voltage error Output phase error Driver overheating error DC overvoltage error AC overvoltage error DC overcurrent error AC overcurrent error Brake error Encoder error Low DC voltage error Line frequency error Internal communication error Software error Input signal error Output signal error Output overload error Driver overvoltage error Driver undervoltage error DC voltage error DC current error Driver overload error Internal thermal protection triggered External thermal protection triggered Motor protection triggered Temperature sensor error Fan failure Processor failure DC bus voltage high DC bus voltage low Input phase loss Input voltage high Input voltage low Output phase loss Output overcurrent DC current high Excessive torque Software error Hardware error Module error Communication error Power supply error Temperature sensor error Fan failure Input phase loss Input voltage high Input voltage low Output phase loss Output overcurrent DC current high Excessive torque Software error Hardware error Module error Communication error Power supply error Temperature sensor error Fan failure Input phase loss Input voltage high Input voltage low Output phase loss Output overcurrent DC current high Excessive torque Software error Hardware error Module error Communication error Power supply error High hydraulic oil temperature Low hydraulic oil level High hydraulic oil level Electrical failure Engine oil pressure low Engine oil pressure high Brake switch failure Low oil pressure High oil pressure Low fuel level Hydraulic oil filter clogged Hydraulic oil filter pressure low Hydraulic oil filter pressure high Fuel filter clogged Engine idle speed high Engine idle speed low Air filter clogged Air filter pressure low Air filter pressure high Hydraulic oil temperature high Hydraulic oil cooler clogged Water temperature high Water level low Water level high Fuel water separator clogged Oil cooler temperature high Oil cooler clogged Transmission oil temperature high Transmission oil level low Transmission oil level high Transmission oil filter clogged Transmission oil filter pressure low Transmission oil filter pressure high Left joystick failure Right joystick failure Left pedal failure Right pedal failure Left arm failure Right arm failure Left steering failure Right steering failure Steering drive motor failure Safety latch disabled Cabin safety lock failure Left cheek failure Right cheek failure Left mirror failure Right mirror failure Front window failure Overcurrent or overheating Low DC voltage or DC error Output phase loss or phase error Overspeed or excessive torque Encoder error Power supply error Communication error or control card error Brake error Low voltage or voltage fluctuation Air hose connection error Air pressure not detected Air pressure excessively high Air pressure excessively low Cuff issue Irregular heartbeat detected Operation error Air filter clogged Insufficient water level Medication tube clogged or medication tube connection error Nebulization nozzle clogged Operating time exceeded Medication tube empty or removed Error (usually specified with error code) Communication error Hard disk error Central processor error Input Output module error Software error Overcurrent Overvoltage Fan not working Internal overheating External overheating Driver error Does not affect operation clear the alarm Inspect load temperature perform repair During unit output sensor control inspect load perform repair During unit return sensor control inspect load perform repair Unit operating at low capacity perform necessary repair Unit operating at low capacity perform necessary repair Unit operating at low capacity perform necessary repair Multiple compartment unit Unit stopped to prevent damage repair immediately Unit stopped to prevent damage try again repair immediately Unit under another sensor control (alarm3-4) repair Unit stopped to prevent damage repair immediately Check compartment temperature with a thermometer Clear alarm repair after load Repair after load Motor did not start manually clear alarm and try again Try again in continuous operation mode repair as necessary Check belt tensions and water level control Top up engine oil perform repair as necessary Check fuel operate in continuous mode perform necessary repair Check load and perform necessary repair Check load perform necessary repair Unit stopped to prevent damage repair immediately Unit stopped to prevent damage repair immediately Check alternator charging repair immediately Check load perform necessary repair Self-test & pre-load test completed check other alarms Unit not defrosting check load perform repair Defrost damper stuck closed repair immediately Unit operating at low capacity or not working perform necessary repair Unit stopped to prevent damage repair immediately Check and record engine RPM perform necessary repair Check modulation circuit breaker and fuse perform repair Check operating relay circuit and perform repair Check incoming current inspect motor belts and perform repair Check and top up motor water level Current reversed voltage low or excessive load Unit operating at low temperature inspect load perform necessary repair Test high RPM Check water level and belt tension Temporary high temperature perform necessary repair Temporary high temperature perform necessary repair Check tank fuel clean fuel system if necessary Operating in low modulation circuit repair after load Load obstructing airflow check loading Multiple compartment sensor failure Clutch and belt slipping perform necessary repair Satellite communication not working Operation normal reset hours Second protection circuit failure repair Unable to heat perform repair Low circuit heating perform necessary repair Timeout shutdown during test does not affect operation Check engine RPM Check battery voltage and amperage Ammeter calibration test Unknown cause check fuel in particular try restarting Does not affect operation perform test clear alarms Check engine oil level top up oil Operating at low capacity inspect load perform repair Clear alarm try again inspect load perform repair Does not affect operation in any way Does not affect operation in any way Does not affect operation in any way Does not affect operation in any way Retest Processor may be faulty have it repaired Processor may be faulty have it repaired Processor may be faulty have it repaired Processor may be faulty have it repaired Clear alarm Compressor protection tripped have it repaired Compressor operating at excessive temperature repair quickly Stopped to prevent damage repair quickly Low heating capacity have it repaired Check other alarms and repair if unit stops If yellow alarm operating at low capacity perform repair Check voltage at 380V three-phase Check voltage Check sensor numbers (from menu) Check suction pressure Check circuit input Check circuit input For units transported on trains Test sensor Check with indicators Unit operating in low heating mode Unit operating in low heating mode Unit operating at low capacity Alarm due to compartment door left open for too long close door and clear alarm High output pressure or output sensor high RPM protection Unit operating at low capacity inspect load and perform necessary repair Microprocessor not set for the unit urgently reset Compartment fan not working perform necessary repair Electric heating problem perform necessary repair Stopped to prevent damage check alarms perform necessary repair Check high-pressure switch Check circuit Check circuit and relay Check circuit and relay Check circuit Check both circuits Enter set temperature Check maintenance hours Check maintenance hours Check maintenance hours Check maintenance hours Check maintenance hours Check maintenance hours Check connections Check spare output Check damper motor heater Sensor control Sensor control Heater does not start Ignition cuts off Low or high battery voltage Ignition failure Flame detector disabled or short circuit Overheating sensor disabled or short circuit Fuel pump disabled or short circuit Blower motor flow error Ignition spark plug disabled Overheating Low fuel level in the engine Heater locked Insufficient fuel pump pressure Excessive battery charge Fuel supply error Flame sensor error Combustion error Electrical supply error System operating normally no error Combustion sensor or ignition device may be faulty Fuel supply valve may be faulty Error occurred during combustion Air intake or combustion gas exhaust may be restricted Low battery voltage or ignition device may be faulty Fuel supply error or insufficient fuel supply pressure Fuel pump or fuel filter may be faulty Low fuel level or insufficient fuel quality Combustion sensor or ignition device may be faulty Insufficient combustion air or combustion air sensor faulty Combustion tube clogged or combustion tube ventilation hole clogged Combustion sensor faulty or issue with combustion sensor cable Fuel supply pump faulty or issue with fuel supply pump cable MAF Air Flow Circuit Range Performance Problem MAF Air Flow Circuit Low Input MAF Air Flow Circuit High Input Integrated Circuit Temperature Sensor High Input Engine Temperature Sensor High Input Throttle Position Sensor Circuit Low Input Throttle Position Sensor Circuit High Input Oxygen Sensor Circuit Malfunction (Bank 1 Sensor 1) Oxygen Sensor Circuit Slow Response (Bank 1 Sensor 1) Oxygen Sensor Heater Circuit Malfunction (Bank 1 Sensor 1) Fuel Air Mixture Lean (Bank 1) Fuel Air Mixture Rich (Bank 1) Random Multiple Cylinder Misfire Detected Cylinder 1 Misfire Detected Cylinder 2 Misfire Detected Cylinder 3 Misfire Detected Cylinder 4 Misfire Detected Cylinder 1 Knock Sensor Circuit Malfunction Cylinder 1 Knock Sensor Circuit Low Input Cylinder 1 Knock Sensor Circuit High Input Exhaust Gas Recirculation Circuit Malfunction Exhaust Gas Recirculation Circuit Performance Catalytic Converter Efficiency Below Threshold (Bank 1) Evaporative Emission Control System Malfunction Evaporative Emission Control System Performance Small Evaporative Emission Control System Leak Detected Evaporative Emission Control System Control Valve Circuit Malfunction Vehicle Speed Sensor Circuit Malfunction Throttle Control Malfunction Low Charge Condition A Camshaft Position Actuator Circuit (Bank 1) Air Flow Circuit Mass or Volume Range Performance Problem System Too Lean (Bank 1) Random Multiple Cylinder Misfire Detected Ignition Distributor Engine Speed Input Circuit No Signal Exhaust Gas Recirculation Flow Insufficient Detected Catalytic Converter System Efficiency Below Threshold (Bank 1) Evaporative Emission Control System Malfunction Evaporative Emission Control System Leak Detected (large leak) Idle Control System RPM Lower Than Expected Internal Control Module Memory Checksum Error Generator Control Circuit Malfunction Transmission Control System Malfunction Output Speed Sensor Circuit Malfunction Torque Converter Clutch Circuit Malfunction Shift Solenoid A Malfunction Mass Air Flow Sensor Self-Test Out of Range Long-Term Fuel Trim B1 System Too Lean Long-Term Fuel Trim Additional Fuel B1 System Too Lean Load Calculation Cross Check Range Performance Problem Fuel System Lean During Acceleration B1 Fuel Delivery System Malfunction – High Fuel Control Bank 1 Sensor 1 Signal Out of Range Oxygen Sensor Circuit – Bank 1 Sensor 2 Circuit High Voltage Series Throttle Control Error Needle Lift Sensor Malfunction Fuel Pump Secondary Circuit Malfunction Engine Coolant Temperature Circuit Malfunction\n",
      "Cümle 1 - Lemmatized: ['ntc', 'sensor', 'short', 'circuit', 'open', 'circuit', 'heater', 'short', 'circuit', 'heater', 'continuously', 'operating', 'continuous', 'water', 'intake', 'error', 'water', 'drainage', 'error', 'motor', 'triac', 'short', 'circuit', 'water', 'level', 'sensor', 'error', 'motor', 'open', 'circuit', 'aqua', 'stop', 'failure', 'rinse', 'sensor', 'ntc', 'short', 'circuit', 'open', 'circuit', 'heater', 'short', 'circuit', 'heater', 'continuously', 'operating', 'valve', 'short', 'circuit', 'pump', 'draining', 'water', 'motor', 'short', 'circuit', 'water', 'level', 'sensor', 'faulty', 'pump', 'short', 'circuit', 'door', 'lock', 'open', 'circuit', 'door', 'lock', 'short', 'circuit', 'motor', 'winding', 'open', 'circuit', 'aqua', 'stop', 'failure', 'motor', 'module', 'communication', 'cable', 'faulty', 'jet', 'pump', 'open', 'circuit', 'flow', 'meter', 'open', 'short', 'circuit', 'rinse', 'sensor', 'short', 'circuit', 'laundry', 'remains', 'foamy', 'unbalanced', 'load', 'machine', 'safe', 'water', 'drainage', 'level', 'activated', 'communication', 'cable', 'fault', 'lcd', 'board', 'main', 'board', 'door', 'switch', 'working', 'load', 'sensor', 'working', 'communication', 'cable', 'fault', 'control', 'panel', 'main', 'board', 'main', 'board', 'written', 'read', 'level', 'sensor', 'control', 'flow', 'meter', 'control', 'main', 'voltage', 'limit', 'ntc', 'short', 'circuit', 'open', 'circuit', 'air', 'duct', 'open', 'flap', 'closed', 'communication', 'sensor', 'drying', 'heater', 'open', 'circuit', 'overheating', 'drum', 'overheating', 'condenser', 'inlet', 'overheating', 'condenser', 'outlet', 'ntc', 'short', 'circuit', 'open', 'circuit', 'heater', 'short', 'circuit', 'heater', 'continuously', 'operating', 'valve', 'triac', 'short', 'circuit', 'pump', 'draining', 'water', 'motor', 'triac', 'short', 'circuit', 'water', 'level', 'sensor', 'faulty', 'pump', 'short', 'circuit', 'door', 'lock', 'open', 'circuit', 'door', 'triac', 'short', 'circuit', 'motor', 'triac', 'open', 'circuit', 'water', 'source', 'error', 'water', 'temperature', 'sensor', 'error', 'water', 'level', 'error', 'water', 'drainage', 'error', 'water', 'supply', 'error', 'electrical', 'error', 'water', 'temperature', 'high', 'water', 'temperature', 'low', 'water', 'heating', 'error', 'door', 'open', 'water', 'filling', 'error', 'water', 'pressure', 'error', 'water', 'leakage', 'error', 'elevator', 'height', 'limit', 'exceeded', 'door', 'opened', 'attempted', 'move', 'door', 'open', 'elevator', 'move', 'overload', 'condition', 'brake', 'released', 'brake', 'system', 'error', 'jerk', 'occurred', 'sudden', 'stop', 'vibration', 'deceleration', 'stopping', 'elevator', 'stopped', 'moving', 'error', 'occurred', 'control', 'unit', 'power', 'supply', 'error', 'elevator', 'elevator', 'operate', 'excessively', 'high', 'temperature', 'cabin', 'door', 'lock', 'system', 'faulty', 'driver', 'fan', 'error', 'internal', 'temperature', 'error', 'control', 'supply', 'error', 'input', 'phase', 'error', 'capacitor', 'voltage', 'error', 'output', 'phase', 'error', 'driver', 'overheating', 'error', 'dc', 'overvoltage', 'error', 'ac', 'overvoltage', 'error', 'dc', 'overcurrent', 'error', 'ac', 'overcurrent', 'error', 'brake', 'error', 'encoder', 'error', 'low', 'dc', 'voltage', 'error', 'line', 'frequency', 'error', 'internal', 'communication', 'error', 'software', 'error', 'input', 'signal', 'error', 'output', 'signal', 'error', 'output', 'overload', 'error', 'driver', 'overvoltage', 'error', 'driver', 'undervoltage', 'error', 'dc', 'voltage', 'error', 'dc', 'current', 'error', 'driver', 'overload', 'error', 'internal', 'thermal', 'protection', 'triggered', 'external', 'thermal', 'protection', 'triggered', 'motor', 'protection', 'triggered', 'temperature', 'sensor', 'error', 'fan', 'failure', 'processor', 'failure', 'dc', 'bus', 'voltage', 'high', 'dc', 'bus', 'voltage', 'low', 'input', 'phase', 'loss', 'input', 'voltage', 'high', 'input', 'voltage', 'low', 'output', 'phase', 'loss', 'output', 'overcurrent', 'dc', 'current', 'high', 'excessive', 'torque', 'software', 'error', 'hardware', 'error', 'module', 'error', 'communication', 'error', 'power', 'supply', 'error', 'temperature', 'sensor', 'error', 'fan', 'failure', 'input', 'phase', 'loss', 'input', 'voltage', 'high', 'input', 'voltage', 'low', 'output', 'phase', 'loss', 'output', 'overcurrent', 'dc', 'current', 'high', 'excessive', 'torque', 'software', 'error', 'hardware', 'error', 'module', 'error', 'communication', 'error', 'power', 'supply', 'error', 'temperature', 'sensor', 'error', 'fan', 'failure', 'input', 'phase', 'loss', 'input', 'voltage', 'high', 'input', 'voltage', 'low', 'output', 'phase', 'loss', 'output', 'overcurrent', 'dc', 'current', 'high', 'excessive', 'torque', 'software', 'error', 'hardware', 'error', 'module', 'error', 'communication', 'error', 'power', 'supply', 'error', 'high', 'hydraulic', 'oil', 'temperature', 'low', 'hydraulic', 'oil', 'level', 'high', 'hydraulic', 'oil', 'level', 'electrical', 'failure', 'engine', 'oil', 'pressure', 'low', 'engine', 'oil', 'pressure', 'high', 'brake', 'switch', 'failure', 'low', 'oil', 'pressure', 'high', 'oil', 'pressure', 'low', 'fuel', 'level', 'hydraulic', 'oil', 'filter', 'clogged', 'hydraulic', 'oil', 'filter', 'pressure', 'low', 'hydraulic', 'oil', 'filter', 'pressure', 'high', 'fuel', 'filter', 'clogged', 'engine', 'idle', 'speed', 'high', 'engine', 'idle', 'speed', 'low', 'air', 'filter', 'clogged', 'air', 'filter', 'pressure', 'low', 'air', 'filter', 'pressure', 'high', 'hydraulic', 'oil', 'temperature', 'high', 'hydraulic', 'oil', 'cooler', 'clogged', 'water', 'temperature', 'high', 'water', 'level', 'low', 'water', 'level', 'high', 'fuel', 'water', 'separator', 'clogged', 'oil', 'cooler', 'temperature', 'high', 'oil', 'cooler', 'clogged', 'transmission', 'oil', 'temperature', 'high', 'transmission', 'oil', 'level', 'low', 'transmission', 'oil', 'level', 'high', 'transmission', 'oil', 'filter', 'clogged', 'transmission', 'oil', 'filter', 'pressure', 'low', 'transmission', 'oil', 'filter', 'pressure', 'high', 'left', 'joystick', 'failure', 'right', 'joystick', 'failure', 'left', 'pedal', 'failure', 'right', 'pedal', 'failure', 'left', 'arm', 'failure', 'right', 'arm', 'failure', 'left', 'steering', 'failure', 'right', 'steering', 'failure', 'steering', 'drive', 'motor', 'failure', 'safety', 'latch', 'disabled', 'cabin', 'safety', 'lock', 'failure', 'left', 'cheek', 'failure', 'right', 'cheek', 'failure', 'left', 'mirror', 'failure', 'right', 'mirror', 'failure', 'front', 'window', 'failure', 'overcurrent', 'overheating', 'low', 'dc', 'voltage', 'dc', 'error', 'output', 'phase', 'loss', 'phase', 'error', 'overspeed', 'excessive', 'torque', 'encoder', 'error', 'power', 'supply', 'error', 'communication', 'error', 'control', 'card', 'error', 'brake', 'error', 'low', 'voltage', 'voltage', 'fluctuation', 'air', 'hose', 'connection', 'error', 'air', 'pressure', 'detected', 'air', 'pressure', 'excessively', 'high', 'air', 'pressure', 'excessively', 'low', 'cuff', 'issue', 'irregular', 'heartbeat', 'detected', 'operation', 'error', 'air', 'filter', 'clogged', 'insufficient', 'water', 'level', 'medication', 'tube', 'clogged', 'medication', 'tube', 'connection', 'error', 'nebulization', 'nozzle', 'clogged', 'operating', 'time', 'exceeded', 'medication', 'tube', 'empty', 'removed', 'error', 'usually', 'specified', 'error', 'code', 'communication', 'error', 'hard', 'disk', 'error', 'central', 'processor', 'error', 'input', 'output', 'module', 'error', 'software', 'error', 'overcurrent', 'overvoltage', 'fan', 'working', 'internal', 'overheating', 'external', 'overheating', 'driver', 'error', 'affect', 'operation', 'clear', 'alarm', 'inspect', 'load', 'temperature', 'perform', 'repair', 'unit', 'output', 'sensor', 'control', 'inspect', 'load', 'perform', 'repair', 'unit', 'return', 'sensor', 'control', 'inspect', 'load', 'perform', 'repair', 'unit', 'operating', 'low', 'capacity', 'perform', 'necessary', 'repair', 'unit', 'operating', 'low', 'capacity', 'perform', 'necessary', 'repair', 'unit', 'operating', 'low', 'capacity', 'perform', 'necessary', 'repair', 'multiple', 'compartment', 'unit', 'unit', 'stopped', 'prevent', 'damage', 'repair', 'immediately', 'unit', 'stopped', 'prevent', 'damage', 'try', 'repair', 'immediately', 'unit', 'another', 'sensor', 'control', 'repair', 'unit', 'stopped', 'prevent', 'damage', 'repair', 'immediately', 'check', 'compartment', 'temperature', 'thermometer', 'clear', 'alarm', 'repair', 'load', 'repair', 'load', 'motor', 'start', 'manually', 'clear', 'alarm', 'try', 'try', 'continuous', 'operation', 'mode', 'repair', 'necessary', 'check', 'belt', 'tension', 'water', 'level', 'control', 'top', 'engine', 'oil', 'perform', 'repair', 'necessary', 'check', 'fuel', 'operate', 'continuous', 'mode', 'perform', 'necessary', 'repair', 'check', 'load', 'perform', 'necessary', 'repair', 'check', 'load', 'perform', 'necessary', 'repair', 'unit', 'stopped', 'prevent', 'damage', 'repair', 'immediately', 'unit', 'stopped', 'prevent', 'damage', 'repair', 'immediately', 'check', 'alternator', 'charging', 'repair', 'immediately', 'check', 'load', 'perform', 'necessary', 'repair', 'test', 'completed', 'check', 'alarm', 'unit', 'defrosting', 'check', 'load', 'perform', 'repair', 'defrost', 'damper', 'stuck', 'closed', 'repair', 'immediately', 'unit', 'operating', 'low', 'capacity', 'working', 'perform', 'necessary', 'repair', 'unit', 'stopped', 'prevent', 'damage', 'repair', 'immediately', 'check', 'record', 'engine', 'rpm', 'perform', 'necessary', 'repair', 'check', 'modulation', 'circuit', 'breaker', 'fuse', 'perform', 'repair', 'check', 'operating', 'relay', 'circuit', 'perform', 'repair', 'check', 'incoming', 'current', 'inspect', 'motor', 'belt', 'perform', 'repair', 'check', 'top', 'motor', 'water', 'level', 'current', 'reversed', 'voltage', 'low', 'excessive', 'load', 'unit', 'operating', 'low', 'temperature', 'inspect', 'load', 'perform', 'necessary', 'repair', 'test', 'high', 'rpm', 'check', 'water', 'level', 'belt', 'tension', 'temporary', 'high', 'temperature', 'perform', 'necessary', 'repair', 'temporary', 'high', 'temperature', 'perform', 'necessary', 'repair', 'check', 'tank', 'fuel', 'clean', 'fuel', 'system', 'necessary', 'operating', 'low', 'modulation', 'circuit', 'repair', 'load', 'load', 'obstructing', 'airflow', 'check', 'loading', 'multiple', 'compartment', 'sensor', 'failure', 'clutch', 'belt', 'slipping', 'perform', 'necessary', 'repair', 'satellite', 'communication', 'working', 'operation', 'normal', 'reset', 'hour', 'second', 'protection', 'circuit', 'failure', 'repair', 'unable', 'heat', 'perform', 'repair', 'low', 'circuit', 'heating', 'perform', 'necessary', 'repair', 'timeout', 'shutdown', 'test', 'affect', 'operation', 'check', 'engine', 'rpm', 'check', 'battery', 'voltage', 'amperage', 'ammeter', 'calibration', 'test', 'unknown', 'cause', 'check', 'fuel', 'particular', 'try', 'restarting', 'affect', 'operation', 'perform', 'test', 'clear', 'alarm', 'check', 'engine', 'oil', 'level', 'top', 'oil', 'operating', 'low', 'capacity', 'inspect', 'load', 'perform', 'repair', 'clear', 'alarm', 'try', 'inspect', 'load', 'perform', 'repair', 'affect', 'operation', 'way', 'affect', 'operation', 'way', 'affect', 'operation', 'way', 'affect', 'operation', 'way', 'retest', 'processor', 'may', 'faulty', 'repaired', 'processor', 'may', 'faulty', 'repaired', 'processor', 'may', 'faulty', 'repaired', 'processor', 'may', 'faulty', 'repaired', 'clear', 'alarm', 'compressor', 'protection', 'tripped', 'repaired', 'compressor', 'operating', 'excessive', 'temperature', 'repair', 'quickly', 'stopped', 'prevent', 'damage', 'repair', 'quickly', 'low', 'heating', 'capacity', 'repaired', 'check', 'alarm', 'repair', 'unit', 'stop', 'yellow', 'alarm', 'operating', 'low', 'capacity', 'perform', 'repair', 'check', 'voltage', 'check', 'voltage', 'check', 'sensor', 'number', 'menu', 'check', 'suction', 'pressure', 'check', 'circuit', 'input', 'check', 'circuit', 'input', 'unit', 'transported', 'train', 'test', 'sensor', 'check', 'indicator', 'unit', 'operating', 'low', 'heating', 'mode', 'unit', 'operating', 'low', 'heating', 'mode', 'unit', 'operating', 'low', 'capacity', 'alarm', 'due', 'compartment', 'door', 'left', 'open', 'long', 'close', 'door', 'clear', 'alarm', 'high', 'output', 'pressure', 'output', 'sensor', 'high', 'rpm', 'protection', 'unit', 'operating', 'low', 'capacity', 'inspect', 'load', 'perform', 'necessary', 'repair', 'microprocessor', 'set', 'unit', 'urgently', 'reset', 'compartment', 'fan', 'working', 'perform', 'necessary', 'repair', 'electric', 'heating', 'problem', 'perform', 'necessary', 'repair', 'stopped', 'prevent', 'damage', 'check', 'alarm', 'perform', 'necessary', 'repair', 'check', 'switch', 'check', 'circuit', 'check', 'circuit', 'relay', 'check', 'circuit', 'relay', 'check', 'circuit', 'check', 'circuit', 'enter', 'set', 'temperature', 'check', 'maintenance', 'hour', 'check', 'maintenance', 'hour', 'check', 'maintenance', 'hour', 'check', 'maintenance', 'hour', 'check', 'maintenance', 'hour', 'check', 'maintenance', 'hour', 'check', 'connection', 'check', 'spare', 'output', 'check', 'damper', 'motor', 'heater', 'sensor', 'control', 'sensor', 'control', 'heater', 'start', 'ignition', 'cut', 'low', 'high', 'battery', 'voltage', 'ignition', 'failure', 'flame', 'detector', 'disabled', 'short', 'circuit', 'overheating', 'sensor', 'disabled', 'short', 'circuit', 'fuel', 'pump', 'disabled', 'short', 'circuit', 'blower', 'motor', 'flow', 'error', 'ignition', 'spark', 'plug', 'disabled', 'overheating', 'low', 'fuel', 'level', 'engine', 'heater', 'locked', 'insufficient', 'fuel', 'pump', 'pressure', 'excessive', 'battery', 'charge', 'fuel', 'supply', 'error', 'flame', 'sensor', 'error', 'combustion', 'error', 'electrical', 'supply', 'error', 'system', 'operating', 'normally', 'error', 'combustion', 'sensor', 'ignition', 'device', 'may', 'faulty', 'fuel', 'supply', 'valve', 'may', 'faulty', 'error', 'occurred', 'combustion', 'air', 'intake', 'combustion', 'gas', 'exhaust', 'may', 'restricted', 'low', 'battery', 'voltage', 'ignition', 'device', 'may', 'faulty', 'fuel', 'supply', 'error', 'insufficient', 'fuel', 'supply', 'pressure', 'fuel', 'pump', 'fuel', 'filter', 'may', 'faulty', 'low', 'fuel', 'level', 'insufficient', 'fuel', 'quality', 'combustion', 'sensor', 'ignition', 'device', 'may', 'faulty', 'insufficient', 'combustion', 'air', 'combustion', 'air', 'sensor', 'faulty', 'combustion', 'tube', 'clogged', 'combustion', 'tube', 'ventilation', 'hole', 'clogged', 'combustion', 'sensor', 'faulty', 'issue', 'combustion', 'sensor', 'cable', 'fuel', 'supply', 'pump', 'faulty', 'issue', 'fuel', 'supply', 'pump', 'cable', 'maf', 'air', 'flow', 'circuit', 'range', 'performance', 'problem', 'maf', 'air', 'flow', 'circuit', 'low', 'input', 'maf', 'air', 'flow', 'circuit', 'high', 'input', 'integrated', 'circuit', 'temperature', 'sensor', 'high', 'input', 'engine', 'temperature', 'sensor', 'high', 'input', 'throttle', 'position', 'sensor', 'circuit', 'low', 'input', 'throttle', 'position', 'sensor', 'circuit', 'high', 'input', 'oxygen', 'sensor', 'circuit', 'malfunction', 'bank', 'sensor', 'oxygen', 'sensor', 'circuit', 'slow', 'response', 'bank', 'sensor', 'oxygen', 'sensor', 'heater', 'circuit', 'malfunction', 'bank', 'sensor', 'fuel', 'air', 'mixture', 'lean', 'bank', 'fuel', 'air', 'mixture', 'rich', 'bank', 'random', 'multiple', 'cylinder', 'misfire', 'detected', 'cylinder', 'misfire', 'detected', 'cylinder', 'misfire', 'detected', 'cylinder', 'misfire', 'detected', 'cylinder', 'misfire', 'detected', 'cylinder', 'knock', 'sensor', 'circuit', 'malfunction', 'cylinder', 'knock', 'sensor', 'circuit', 'low', 'input', 'cylinder', 'knock', 'sensor', 'circuit', 'high', 'input', 'exhaust', 'gas', 'recirculation', 'circuit', 'malfunction', 'exhaust', 'gas', 'recirculation', 'circuit', 'performance', 'catalytic', 'converter', 'efficiency', 'threshold', 'bank', 'evaporative', 'emission', 'control', 'system', 'malfunction', 'evaporative', 'emission', 'control', 'system', 'performance', 'small', 'evaporative', 'emission', 'control', 'system', 'leak', 'detected', 'evaporative', 'emission', 'control', 'system', 'control', 'valve', 'circuit', 'malfunction', 'vehicle', 'speed', 'sensor', 'circuit', 'malfunction', 'throttle', 'control', 'malfunction', 'low', 'charge', 'condition', 'camshaft', 'position', 'actuator', 'circuit', 'bank', 'air', 'flow', 'circuit', 'mass', 'volume', 'range', 'performance', 'problem', 'system', 'lean', 'bank', 'random', 'multiple', 'cylinder', 'misfire', 'detected', 'ignition', 'distributor', 'engine', 'speed', 'input', 'circuit', 'signal', 'exhaust', 'gas', 'recirculation', 'flow', 'insufficient', 'detected', 'catalytic', 'converter', 'system', 'efficiency', 'threshold', 'bank', 'evaporative', 'emission', 'control', 'system', 'malfunction', 'evaporative', 'emission', 'control', 'system', 'leak', 'detected', 'large', 'leak', 'idle', 'control', 'system', 'rpm', 'lower', 'expected', 'internal', 'control', 'module', 'memory', 'checksum', 'error', 'generator', 'control', 'circuit', 'malfunction', 'transmission', 'control', 'system', 'malfunction', 'output', 'speed', 'sensor', 'circuit', 'malfunction', 'torque', 'converter', 'clutch', 'circuit', 'malfunction', 'shift', 'solenoid', 'malfunction', 'mass', 'air', 'flow', 'sensor', 'range', 'fuel', 'trim', 'system', 'lean', 'fuel', 'trim', 'additional', 'fuel', 'system', 'lean', 'load', 'calculation', 'cross', 'check', 'range', 'performance', 'problem', 'fuel', 'system', 'lean', 'acceleration', 'fuel', 'delivery', 'system', 'malfunction', 'high', 'fuel', 'control', 'bank', 'sensor', 'signal', 'range', 'oxygen', 'sensor', 'circuit', 'bank', 'sensor', 'circuit', 'high', 'voltage', 'series', 'throttle', 'control', 'error', 'needle', 'lift', 'sensor', 'malfunction', 'fuel', 'pump', 'secondary', 'circuit', 'malfunction', 'engine', 'coolant', 'temperature', 'circuit', 'malfunction']\n",
      "Cümle 1 - Stemmed: ['ntc', 'sensor', 'short', 'circuit', 'open', 'circuit', 'heater', 'short', 'circuit', 'heater', 'continu', 'oper', 'continu', 'water', 'intak', 'error', 'water', 'drainag', 'error', 'motor', 'triac', 'short', 'circuit', 'water', 'level', 'sensor', 'error', 'motor', 'open', 'circuit', 'aqua', 'stop', 'failur', 'rins', 'sensor', 'ntc', 'short', 'circuit', 'open', 'circuit', 'heater', 'short', 'circuit', 'heater', 'continu', 'oper', 'valv', 'short', 'circuit', 'pump', 'drain', 'water', 'motor', 'short', 'circuit', 'water', 'level', 'sensor', 'faulti', 'pump', 'short', 'circuit', 'door', 'lock', 'open', 'circuit', 'door', 'lock', 'short', 'circuit', 'motor', 'wind', 'open', 'circuit', 'aqua', 'stop', 'failur', 'motor', 'modul', 'commun', 'cabl', 'faulti', 'jet', 'pump', 'open', 'circuit', 'flow', 'meter', 'open', 'short', 'circuit', 'rins', 'sensor', 'short', 'circuit', 'laundri', 'remain', 'foami', 'unbalanc', 'load', 'machin', 'safe', 'water', 'drainag', 'level', 'activ', 'commun', 'cabl', 'fault', 'lcd', 'board', 'main', 'board', 'door', 'switch', 'work', 'load', 'sensor', 'work', 'commun', 'cabl', 'fault', 'control', 'panel', 'main', 'board', 'main', 'board', 'written', 'read', 'level', 'sensor', 'control', 'flow', 'meter', 'control', 'main', 'voltag', 'limit', 'ntc', 'short', 'circuit', 'open', 'circuit', 'air', 'duct', 'open', 'flap', 'close', 'commun', 'sensor', 'dri', 'heater', 'open', 'circuit', 'overh', 'drum', 'overh', 'condens', 'inlet', 'overh', 'condens', 'outlet', 'ntc', 'short', 'circuit', 'open', 'circuit', 'heater', 'short', 'circuit', 'heater', 'continu', 'oper', 'valv', 'triac', 'short', 'circuit', 'pump', 'drain', 'water', 'motor', 'triac', 'short', 'circuit', 'water', 'level', 'sensor', 'faulti', 'pump', 'short', 'circuit', 'door', 'lock', 'open', 'circuit', 'door', 'triac', 'short', 'circuit', 'motor', 'triac', 'open', 'circuit', 'water', 'sourc', 'error', 'water', 'temperatur', 'sensor', 'error', 'water', 'level', 'error', 'water', 'drainag', 'error', 'water', 'suppli', 'error', 'electr', 'error', 'water', 'temperatur', 'high', 'water', 'temperatur', 'low', 'water', 'heat', 'error', 'door', 'open', 'water', 'fill', 'error', 'water', 'pressur', 'error', 'water', 'leakag', 'error', 'elev', 'height', 'limit', 'exceed', 'door', 'open', 'attempt', 'move', 'door', 'open', 'elev', 'move', 'overload', 'condit', 'brake', 'releas', 'brake', 'system', 'error', 'jerk', 'occur', 'sudden', 'stop', 'vibrat', 'deceler', 'stop', 'elev', 'stop', 'move', 'error', 'occur', 'control', 'unit', 'power', 'suppli', 'error', 'elev', 'elev', 'oper', 'excess', 'high', 'temperatur', 'cabin', 'door', 'lock', 'system', 'faulti', 'driver', 'fan', 'error', 'intern', 'temperatur', 'error', 'control', 'suppli', 'error', 'input', 'phase', 'error', 'capacitor', 'voltag', 'error', 'output', 'phase', 'error', 'driver', 'overh', 'error', 'dc', 'overvoltag', 'error', 'ac', 'overvoltag', 'error', 'dc', 'overcurr', 'error', 'ac', 'overcurr', 'error', 'brake', 'error', 'encod', 'error', 'low', 'dc', 'voltag', 'error', 'line', 'frequenc', 'error', 'intern', 'commun', 'error', 'softwar', 'error', 'input', 'signal', 'error', 'output', 'signal', 'error', 'output', 'overload', 'error', 'driver', 'overvoltag', 'error', 'driver', 'undervoltag', 'error', 'dc', 'voltag', 'error', 'dc', 'current', 'error', 'driver', 'overload', 'error', 'intern', 'thermal', 'protect', 'trigger', 'extern', 'thermal', 'protect', 'trigger', 'motor', 'protect', 'trigger', 'temperatur', 'sensor', 'error', 'fan', 'failur', 'processor', 'failur', 'dc', 'bu', 'voltag', 'high', 'dc', 'bu', 'voltag', 'low', 'input', 'phase', 'loss', 'input', 'voltag', 'high', 'input', 'voltag', 'low', 'output', 'phase', 'loss', 'output', 'overcurr', 'dc', 'current', 'high', 'excess', 'torqu', 'softwar', 'error', 'hardwar', 'error', 'modul', 'error', 'commun', 'error', 'power', 'suppli', 'error', 'temperatur', 'sensor', 'error', 'fan', 'failur', 'input', 'phase', 'loss', 'input', 'voltag', 'high', 'input', 'voltag', 'low', 'output', 'phase', 'loss', 'output', 'overcurr', 'dc', 'current', 'high', 'excess', 'torqu', 'softwar', 'error', 'hardwar', 'error', 'modul', 'error', 'commun', 'error', 'power', 'suppli', 'error', 'temperatur', 'sensor', 'error', 'fan', 'failur', 'input', 'phase', 'loss', 'input', 'voltag', 'high', 'input', 'voltag', 'low', 'output', 'phase', 'loss', 'output', 'overcurr', 'dc', 'current', 'high', 'excess', 'torqu', 'softwar', 'error', 'hardwar', 'error', 'modul', 'error', 'commun', 'error', 'power', 'suppli', 'error', 'high', 'hydraul', 'oil', 'temperatur', 'low', 'hydraul', 'oil', 'level', 'high', 'hydraul', 'oil', 'level', 'electr', 'failur', 'engin', 'oil', 'pressur', 'low', 'engin', 'oil', 'pressur', 'high', 'brake', 'switch', 'failur', 'low', 'oil', 'pressur', 'high', 'oil', 'pressur', 'low', 'fuel', 'level', 'hydraul', 'oil', 'filter', 'clog', 'hydraul', 'oil', 'filter', 'pressur', 'low', 'hydraul', 'oil', 'filter', 'pressur', 'high', 'fuel', 'filter', 'clog', 'engin', 'idl', 'speed', 'high', 'engin', 'idl', 'speed', 'low', 'air', 'filter', 'clog', 'air', 'filter', 'pressur', 'low', 'air', 'filter', 'pressur', 'high', 'hydraul', 'oil', 'temperatur', 'high', 'hydraul', 'oil', 'cooler', 'clog', 'water', 'temperatur', 'high', 'water', 'level', 'low', 'water', 'level', 'high', 'fuel', 'water', 'separ', 'clog', 'oil', 'cooler', 'temperatur', 'high', 'oil', 'cooler', 'clog', 'transmiss', 'oil', 'temperatur', 'high', 'transmiss', 'oil', 'level', 'low', 'transmiss', 'oil', 'level', 'high', 'transmiss', 'oil', 'filter', 'clog', 'transmiss', 'oil', 'filter', 'pressur', 'low', 'transmiss', 'oil', 'filter', 'pressur', 'high', 'left', 'joystick', 'failur', 'right', 'joystick', 'failur', 'left', 'pedal', 'failur', 'right', 'pedal', 'failur', 'left', 'arm', 'failur', 'right', 'arm', 'failur', 'left', 'steer', 'failur', 'right', 'steer', 'failur', 'steer', 'drive', 'motor', 'failur', 'safeti', 'latch', 'disabl', 'cabin', 'safeti', 'lock', 'failur', 'left', 'cheek', 'failur', 'right', 'cheek', 'failur', 'left', 'mirror', 'failur', 'right', 'mirror', 'failur', 'front', 'window', 'failur', 'overcurr', 'overh', 'low', 'dc', 'voltag', 'dc', 'error', 'output', 'phase', 'loss', 'phase', 'error', 'overspe', 'excess', 'torqu', 'encod', 'error', 'power', 'suppli', 'error', 'commun', 'error', 'control', 'card', 'error', 'brake', 'error', 'low', 'voltag', 'voltag', 'fluctuat', 'air', 'hose', 'connect', 'error', 'air', 'pressur', 'detect', 'air', 'pressur', 'excess', 'high', 'air', 'pressur', 'excess', 'low', 'cuff', 'issu', 'irregular', 'heartbeat', 'detect', 'oper', 'error', 'air', 'filter', 'clog', 'insuffici', 'water', 'level', 'medic', 'tube', 'clog', 'medic', 'tube', 'connect', 'error', 'nebul', 'nozzl', 'clog', 'oper', 'time', 'exceed', 'medic', 'tube', 'empti', 'remov', 'error', 'usual', 'specifi', 'error', 'code', 'commun', 'error', 'hard', 'disk', 'error', 'central', 'processor', 'error', 'input', 'output', 'modul', 'error', 'softwar', 'error', 'overcurr', 'overvoltag', 'fan', 'work', 'intern', 'overh', 'extern', 'overh', 'driver', 'error', 'affect', 'oper', 'clear', 'alarm', 'inspect', 'load', 'temperatur', 'perform', 'repair', 'unit', 'output', 'sensor', 'control', 'inspect', 'load', 'perform', 'repair', 'unit', 'return', 'sensor', 'control', 'inspect', 'load', 'perform', 'repair', 'unit', 'oper', 'low', 'capac', 'perform', 'necessari', 'repair', 'unit', 'oper', 'low', 'capac', 'perform', 'necessari', 'repair', 'unit', 'oper', 'low', 'capac', 'perform', 'necessari', 'repair', 'multipl', 'compart', 'unit', 'unit', 'stop', 'prevent', 'damag', 'repair', 'immedi', 'unit', 'stop', 'prevent', 'damag', 'tri', 'repair', 'immedi', 'unit', 'anoth', 'sensor', 'control', 'repair', 'unit', 'stop', 'prevent', 'damag', 'repair', 'immedi', 'check', 'compart', 'temperatur', 'thermomet', 'clear', 'alarm', 'repair', 'load', 'repair', 'load', 'motor', 'start', 'manual', 'clear', 'alarm', 'tri', 'tri', 'continu', 'oper', 'mode', 'repair', 'necessari', 'check', 'belt', 'tension', 'water', 'level', 'control', 'top', 'engin', 'oil', 'perform', 'repair', 'necessari', 'check', 'fuel', 'oper', 'continu', 'mode', 'perform', 'necessari', 'repair', 'check', 'load', 'perform', 'necessari', 'repair', 'check', 'load', 'perform', 'necessari', 'repair', 'unit', 'stop', 'prevent', 'damag', 'repair', 'immedi', 'unit', 'stop', 'prevent', 'damag', 'repair', 'immedi', 'check', 'altern', 'charg', 'repair', 'immedi', 'check', 'load', 'perform', 'necessari', 'repair', 'test', 'complet', 'check', 'alarm', 'unit', 'defrost', 'check', 'load', 'perform', 'repair', 'defrost', 'damper', 'stuck', 'close', 'repair', 'immedi', 'unit', 'oper', 'low', 'capac', 'work', 'perform', 'necessari', 'repair', 'unit', 'stop', 'prevent', 'damag', 'repair', 'immedi', 'check', 'record', 'engin', 'rpm', 'perform', 'necessari', 'repair', 'check', 'modul', 'circuit', 'breaker', 'fuse', 'perform', 'repair', 'check', 'oper', 'relay', 'circuit', 'perform', 'repair', 'check', 'incom', 'current', 'inspect', 'motor', 'belt', 'perform', 'repair', 'check', 'top', 'motor', 'water', 'level', 'current', 'revers', 'voltag', 'low', 'excess', 'load', 'unit', 'oper', 'low', 'temperatur', 'inspect', 'load', 'perform', 'necessari', 'repair', 'test', 'high', 'rpm', 'check', 'water', 'level', 'belt', 'tension', 'temporari', 'high', 'temperatur', 'perform', 'necessari', 'repair', 'temporari', 'high', 'temperatur', 'perform', 'necessari', 'repair', 'check', 'tank', 'fuel', 'clean', 'fuel', 'system', 'necessari', 'oper', 'low', 'modul', 'circuit', 'repair', 'load', 'load', 'obstruct', 'airflow', 'check', 'load', 'multipl', 'compart', 'sensor', 'failur', 'clutch', 'belt', 'slip', 'perform', 'necessari', 'repair', 'satellit', 'commun', 'work', 'oper', 'normal', 'reset', 'hour', 'second', 'protect', 'circuit', 'failur', 'repair', 'unabl', 'heat', 'perform', 'repair', 'low', 'circuit', 'heat', 'perform', 'necessari', 'repair', 'timeout', 'shutdown', 'test', 'affect', 'oper', 'check', 'engin', 'rpm', 'check', 'batteri', 'voltag', 'amperag', 'ammet', 'calibr', 'test', 'unknown', 'caus', 'check', 'fuel', 'particular', 'tri', 'restart', 'affect', 'oper', 'perform', 'test', 'clear', 'alarm', 'check', 'engin', 'oil', 'level', 'top', 'oil', 'oper', 'low', 'capac', 'inspect', 'load', 'perform', 'repair', 'clear', 'alarm', 'tri', 'inspect', 'load', 'perform', 'repair', 'affect', 'oper', 'way', 'affect', 'oper', 'way', 'affect', 'oper', 'way', 'affect', 'oper', 'way', 'retest', 'processor', 'may', 'faulti', 'repair', 'processor', 'may', 'faulti', 'repair', 'processor', 'may', 'faulti', 'repair', 'processor', 'may', 'faulti', 'repair', 'clear', 'alarm', 'compressor', 'protect', 'trip', 'repair', 'compressor', 'oper', 'excess', 'temperatur', 'repair', 'quickli', 'stop', 'prevent', 'damag', 'repair', 'quickli', 'low', 'heat', 'capac', 'repair', 'check', 'alarm', 'repair', 'unit', 'stop', 'yellow', 'alarm', 'oper', 'low', 'capac', 'perform', 'repair', 'check', 'voltag', 'check', 'voltag', 'check', 'sensor', 'number', 'menu', 'check', 'suction', 'pressur', 'check', 'circuit', 'input', 'check', 'circuit', 'input', 'unit', 'transport', 'train', 'test', 'sensor', 'check', 'indic', 'unit', 'oper', 'low', 'heat', 'mode', 'unit', 'oper', 'low', 'heat', 'mode', 'unit', 'oper', 'low', 'capac', 'alarm', 'due', 'compart', 'door', 'left', 'open', 'long', 'close', 'door', 'clear', 'alarm', 'high', 'output', 'pressur', 'output', 'sensor', 'high', 'rpm', 'protect', 'unit', 'oper', 'low', 'capac', 'inspect', 'load', 'perform', 'necessari', 'repair', 'microprocessor', 'set', 'unit', 'urgent', 'reset', 'compart', 'fan', 'work', 'perform', 'necessari', 'repair', 'electr', 'heat', 'problem', 'perform', 'necessari', 'repair', 'stop', 'prevent', 'damag', 'check', 'alarm', 'perform', 'necessari', 'repair', 'check', 'switch', 'check', 'circuit', 'check', 'circuit', 'relay', 'check', 'circuit', 'relay', 'check', 'circuit', 'check', 'circuit', 'enter', 'set', 'temperatur', 'check', 'mainten', 'hour', 'check', 'mainten', 'hour', 'check', 'mainten', 'hour', 'check', 'mainten', 'hour', 'check', 'mainten', 'hour', 'check', 'mainten', 'hour', 'check', 'connect', 'check', 'spare', 'output', 'check', 'damper', 'motor', 'heater', 'sensor', 'control', 'sensor', 'control', 'heater', 'start', 'ignit', 'cut', 'low', 'high', 'batteri', 'voltag', 'ignit', 'failur', 'flame', 'detector', 'disabl', 'short', 'circuit', 'overh', 'sensor', 'disabl', 'short', 'circuit', 'fuel', 'pump', 'disabl', 'short', 'circuit', 'blower', 'motor', 'flow', 'error', 'ignit', 'spark', 'plug', 'disabl', 'overh', 'low', 'fuel', 'level', 'engin', 'heater', 'lock', 'insuffici', 'fuel', 'pump', 'pressur', 'excess', 'batteri', 'charg', 'fuel', 'suppli', 'error', 'flame', 'sensor', 'error', 'combust', 'error', 'electr', 'suppli', 'error', 'system', 'oper', 'normal', 'error', 'combust', 'sensor', 'ignit', 'devic', 'may', 'faulti', 'fuel', 'suppli', 'valv', 'may', 'faulti', 'error', 'occur', 'combust', 'air', 'intak', 'combust', 'ga', 'exhaust', 'may', 'restrict', 'low', 'batteri', 'voltag', 'ignit', 'devic', 'may', 'faulti', 'fuel', 'suppli', 'error', 'insuffici', 'fuel', 'suppli', 'pressur', 'fuel', 'pump', 'fuel', 'filter', 'may', 'faulti', 'low', 'fuel', 'level', 'insuffici', 'fuel', 'qualiti', 'combust', 'sensor', 'ignit', 'devic', 'may', 'faulti', 'insuffici', 'combust', 'air', 'combust', 'air', 'sensor', 'faulti', 'combust', 'tube', 'clog', 'combust', 'tube', 'ventil', 'hole', 'clog', 'combust', 'sensor', 'faulti', 'issu', 'combust', 'sensor', 'cabl', 'fuel', 'suppli', 'pump', 'faulti', 'issu', 'fuel', 'suppli', 'pump', 'cabl', 'maf', 'air', 'flow', 'circuit', 'rang', 'perform', 'problem', 'maf', 'air', 'flow', 'circuit', 'low', 'input', 'maf', 'air', 'flow', 'circuit', 'high', 'input', 'integr', 'circuit', 'temperatur', 'sensor', 'high', 'input', 'engin', 'temperatur', 'sensor', 'high', 'input', 'throttl', 'posit', 'sensor', 'circuit', 'low', 'input', 'throttl', 'posit', 'sensor', 'circuit', 'high', 'input', 'oxygen', 'sensor', 'circuit', 'malfunct', 'bank', 'sensor', 'oxygen', 'sensor', 'circuit', 'slow', 'respons', 'bank', 'sensor', 'oxygen', 'sensor', 'heater', 'circuit', 'malfunct', 'bank', 'sensor', 'fuel', 'air', 'mixtur', 'lean', 'bank', 'fuel', 'air', 'mixtur', 'rich', 'bank', 'random', 'multipl', 'cylind', 'misfir', 'detect', 'cylind', 'misfir', 'detect', 'cylind', 'misfir', 'detect', 'cylind', 'misfir', 'detect', 'cylind', 'misfir', 'detect', 'cylind', 'knock', 'sensor', 'circuit', 'malfunct', 'cylind', 'knock', 'sensor', 'circuit', 'low', 'input', 'cylind', 'knock', 'sensor', 'circuit', 'high', 'input', 'exhaust', 'ga', 'recircul', 'circuit', 'malfunct', 'exhaust', 'ga', 'recircul', 'circuit', 'perform', 'catalyt', 'convert', 'effici', 'threshold', 'bank', 'evapor', 'emiss', 'control', 'system', 'malfunct', 'evapor', 'emiss', 'control', 'system', 'perform', 'small', 'evapor', 'emiss', 'control', 'system', 'leak', 'detect', 'evapor', 'emiss', 'control', 'system', 'control', 'valv', 'circuit', 'malfunct', 'vehicl', 'speed', 'sensor', 'circuit', 'malfunct', 'throttl', 'control', 'malfunct', 'low', 'charg', 'condit', 'camshaft', 'posit', 'actuat', 'circuit', 'bank', 'air', 'flow', 'circuit', 'mass', 'volum', 'rang', 'perform', 'problem', 'system', 'lean', 'bank', 'random', 'multipl', 'cylind', 'misfir', 'detect', 'ignit', 'distributor', 'engin', 'speed', 'input', 'circuit', 'signal', 'exhaust', 'ga', 'recircul', 'flow', 'insuffici', 'detect', 'catalyt', 'convert', 'system', 'effici', 'threshold', 'bank', 'evapor', 'emiss', 'control', 'system', 'malfunct', 'evapor', 'emiss', 'control', 'system', 'leak', 'detect', 'larg', 'leak', 'idl', 'control', 'system', 'rpm', 'lower', 'expect', 'intern', 'control', 'modul', 'memori', 'checksum', 'error', 'gener', 'control', 'circuit', 'malfunct', 'transmiss', 'control', 'system', 'malfunct', 'output', 'speed', 'sensor', 'circuit', 'malfunct', 'torqu', 'convert', 'clutch', 'circuit', 'malfunct', 'shift', 'solenoid', 'malfunct', 'mass', 'air', 'flow', 'sensor', 'rang', 'fuel', 'trim', 'system', 'lean', 'fuel', 'trim', 'addit', 'fuel', 'system', 'lean', 'load', 'calcul', 'cross', 'check', 'rang', 'perform', 'problem', 'fuel', 'system', 'lean', 'acceler', 'fuel', 'deliveri', 'system', 'malfunct', 'high', 'fuel', 'control', 'bank', 'sensor', 'signal', 'rang', 'oxygen', 'sensor', 'circuit', 'bank', 'sensor', 'circuit', 'high', 'voltag', 'seri', 'throttl', 'control', 'error', 'needl', 'lift', 'sensor', 'malfunct', 'fuel', 'pump', 'secondari', 'circuit', 'malfunct', 'engin', 'coolant', 'temperatur', 'circuit', 'malfunct']\n",
      "\n",
      "\n"
     ]
    },
    {
     "ename": "IndexError",
     "evalue": "list index out of range",
     "output_type": "error",
     "traceback": [
      "\u001b[1;31m---------------------------------------------------------------------------\u001b[0m",
      "\u001b[1;31mIndexError\u001b[0m                                Traceback (most recent call last)",
      "Cell \u001b[1;32mIn[19], line 3\u001b[0m\n\u001b[0;32m      1\u001b[0m \u001b[38;5;66;03m# İlk 5 cümleyi yazdıralım\u001b[39;00m\n\u001b[0;32m      2\u001b[0m \u001b[38;5;28;01mfor\u001b[39;00m i \u001b[38;5;129;01min\u001b[39;00m \u001b[38;5;28mrange\u001b[39m(\u001b[38;5;241m5\u001b[39m):\n\u001b[1;32m----> 3\u001b[0m    \u001b[38;5;28mprint\u001b[39m(\u001b[38;5;124mf\u001b[39m\u001b[38;5;124m\"\u001b[39m\u001b[38;5;124mCümle \u001b[39m\u001b[38;5;132;01m{\u001b[39;00mi\u001b[38;5;241m+\u001b[39m\u001b[38;5;241m1\u001b[39m\u001b[38;5;132;01m}\u001b[39;00m\u001b[38;5;124m - Base: \u001b[39m\u001b[38;5;132;01m{\u001b[39;00msentences[i]\u001b[38;5;132;01m}\u001b[39;00m\u001b[38;5;124m\"\u001b[39m)\n\u001b[0;32m      4\u001b[0m    \u001b[38;5;28mprint\u001b[39m(\u001b[38;5;124mf\u001b[39m\u001b[38;5;124m\"\u001b[39m\u001b[38;5;124mCümle \u001b[39m\u001b[38;5;132;01m{\u001b[39;00mi\u001b[38;5;241m+\u001b[39m\u001b[38;5;241m1\u001b[39m\u001b[38;5;132;01m}\u001b[39;00m\u001b[38;5;124m - Lemmatized: \u001b[39m\u001b[38;5;132;01m{\u001b[39;00mtokenized_corpus_lemmatized[i]\u001b[38;5;132;01m}\u001b[39;00m\u001b[38;5;124m\"\u001b[39m)\n\u001b[0;32m      5\u001b[0m    \u001b[38;5;28mprint\u001b[39m(\u001b[38;5;124mf\u001b[39m\u001b[38;5;124m\"\u001b[39m\u001b[38;5;124mCümle \u001b[39m\u001b[38;5;132;01m{\u001b[39;00mi\u001b[38;5;241m+\u001b[39m\u001b[38;5;241m1\u001b[39m\u001b[38;5;132;01m}\u001b[39;00m\u001b[38;5;124m - Stemmed: \u001b[39m\u001b[38;5;132;01m{\u001b[39;00mtokenized_corpus_stemmed[i]\u001b[38;5;132;01m}\u001b[39;00m\u001b[38;5;124m\"\u001b[39m)\n",
      "\u001b[1;31mIndexError\u001b[0m: list index out of range"
     ]
    }
   ],
   "source": [
    " # İlk 5 cümleyi yazdıralım\n",
    "for i in range(5):\n",
    "    print(f\"Cümle {i+1} - Base: {sentences[i]}\")\n",
    "    print(f\"Cümle {i+1} - Lemmatized: {tokenized_corpus_lemmatized[i]}\")\n",
    "    print(f\"Cümle {i+1} - Stemmed: {tokenized_corpus_stemmed[i]}\")\n",
    "    print(\"\\n\")\n"
   ]
  },
  {
   "cell_type": "code",
   "execution_count": null,
   "id": "62b01031-28ea-4e1f-a74d-a7b9271f28dd",
   "metadata": {},
   "outputs": [],
   "source": [
    "\n"
   ]
  }
 ],
 "metadata": {
  "kernelspec": {
   "display_name": "Python 3 (ipykernel)",
   "language": "python",
   "name": "python3"
  },
  "language_info": {
   "codemirror_mode": {
    "name": "ipython",
    "version": 3
   },
   "file_extension": ".py",
   "mimetype": "text/x-python",
   "name": "python",
   "nbconvert_exporter": "python",
   "pygments_lexer": "ipython3",
   "version": "3.11.5"
  }
 },
 "nbformat": 4,
 "nbformat_minor": 5
}
