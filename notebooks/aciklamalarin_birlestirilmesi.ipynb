{
 "cells": [
  {
   "cell_type": "code",
   "execution_count": 1,
   "id": "f6caec2f-0942-4662-ada2-bedd7f56dbd4",
   "metadata": {},
   "outputs": [],
   "source": [
    "import pandas as pd\n",
    "import numpy as np"
   ]
  },
  {
   "cell_type": "code",
   "execution_count": 24,
   "id": "2166344b-2bc4-4bcb-868f-430e678d9073",
   "metadata": {},
   "outputs": [],
   "source": [
    "df = pd.read_csv(\"../data/industrial_error_codes.csv\")"
   ]
  },
  {
   "cell_type": "code",
   "execution_count": 25,
   "id": "c94a632c-659f-4ec4-b3a3-47827c2a1db5",
   "metadata": {},
   "outputs": [
    {
     "data": {
      "text/html": [
       "<div>\n",
       "<style scoped>\n",
       "    .dataframe tbody tr th:only-of-type {\n",
       "        vertical-align: middle;\n",
       "    }\n",
       "\n",
       "    .dataframe tbody tr th {\n",
       "        vertical-align: top;\n",
       "    }\n",
       "\n",
       "    .dataframe thead th {\n",
       "        text-align: right;\n",
       "    }\n",
       "</style>\n",
       "<table border=\"1\" class=\"dataframe\">\n",
       "  <thead>\n",
       "    <tr style=\"text-align: right;\">\n",
       "      <th></th>\n",
       "      <th>Markası</th>\n",
       "      <th>Hata Kodu</th>\n",
       "      <th>Aciklama</th>\n",
       "    </tr>\n",
       "  </thead>\n",
       "  <tbody>\n",
       "    <tr>\n",
       "      <th>0</th>\n",
       "      <td>Arcelik</td>\n",
       "      <td>H1</td>\n",
       "      <td>NTC sensor short circuit or open circuit</td>\n",
       "    </tr>\n",
       "    <tr>\n",
       "      <th>1</th>\n",
       "      <td>Arcelik</td>\n",
       "      <td>H2</td>\n",
       "      <td>Heater short circuit</td>\n",
       "    </tr>\n",
       "    <tr>\n",
       "      <th>2</th>\n",
       "      <td>Arcelik</td>\n",
       "      <td>H3</td>\n",
       "      <td>Heater continuously operating</td>\n",
       "    </tr>\n",
       "    <tr>\n",
       "      <th>3</th>\n",
       "      <td>Arcelik</td>\n",
       "      <td>H4</td>\n",
       "      <td>Continuous water intake error</td>\n",
       "    </tr>\n",
       "    <tr>\n",
       "      <th>4</th>\n",
       "      <td>Arcelik</td>\n",
       "      <td>H5</td>\n",
       "      <td>Water drainage error</td>\n",
       "    </tr>\n",
       "    <tr>\n",
       "      <th>...</th>\n",
       "      <td>...</td>\n",
       "      <td>...</td>\n",
       "      <td>...</td>\n",
       "    </tr>\n",
       "    <tr>\n",
       "      <th>430</th>\n",
       "      <td>Volkswagen</td>\n",
       "      <td>P1192</td>\n",
       "      <td>Oxygen Sensor Circuit – Bank 1 Sensor 2 Circui...</td>\n",
       "    </tr>\n",
       "    <tr>\n",
       "      <th>431</th>\n",
       "      <td>Volkswagen</td>\n",
       "      <td>P1220</td>\n",
       "      <td>Series Throttle Control Error</td>\n",
       "    </tr>\n",
       "    <tr>\n",
       "      <th>432</th>\n",
       "      <td>Volkswagen</td>\n",
       "      <td>P1225</td>\n",
       "      <td>Needle Lift Sensor Malfunction</td>\n",
       "    </tr>\n",
       "    <tr>\n",
       "      <th>433</th>\n",
       "      <td>Volkswagen</td>\n",
       "      <td>P1237</td>\n",
       "      <td>Fuel Pump Secondary Circuit Malfunction</td>\n",
       "    </tr>\n",
       "    <tr>\n",
       "      <th>434</th>\n",
       "      <td>Volkswagen</td>\n",
       "      <td>P1255</td>\n",
       "      <td>Engine Coolant Temperature Circuit Malfunction</td>\n",
       "    </tr>\n",
       "  </tbody>\n",
       "</table>\n",
       "<p>435 rows × 3 columns</p>\n",
       "</div>"
      ],
      "text/plain": [
       "        Markası Hata Kodu                                           Aciklama\n",
       "0       Arcelik        H1           NTC sensor short circuit or open circuit\n",
       "1       Arcelik        H2                               Heater short circuit\n",
       "2       Arcelik        H3                      Heater continuously operating\n",
       "3       Arcelik        H4                      Continuous water intake error\n",
       "4       Arcelik        H5                               Water drainage error\n",
       "..          ...       ...                                                ...\n",
       "430  Volkswagen     P1192  Oxygen Sensor Circuit – Bank 1 Sensor 2 Circui...\n",
       "431  Volkswagen     P1220                      Series Throttle Control Error\n",
       "432  Volkswagen     P1225                     Needle Lift Sensor Malfunction\n",
       "433  Volkswagen     P1237            Fuel Pump Secondary Circuit Malfunction\n",
       "434  Volkswagen     P1255     Engine Coolant Temperature Circuit Malfunction\n",
       "\n",
       "[435 rows x 3 columns]"
      ]
     },
     "execution_count": 25,
     "metadata": {},
     "output_type": "execute_result"
    }
   ],
   "source": [
    "df"
   ]
  },
  {
   "cell_type": "code",
   "execution_count": 30,
   "id": "114c4968-4c12-4fb1-affa-115e27c390fd",
   "metadata": {},
   "outputs": [],
   "source": [
    "birlesik = df[\"Aciklama\"]"
   ]
  },
  {
   "cell_type": "code",
   "execution_count": 31,
   "id": "fd76ce83-28b3-443d-b63f-571d757147be",
   "metadata": {},
   "outputs": [
    {
     "data": {
      "text/plain": [
       "0               NTC sensor short circuit or open circuit\n",
       "1                                   Heater short circuit\n",
       "2                          Heater continuously operating\n",
       "3                          Continuous water intake error\n",
       "4                                   Water drainage error\n",
       "                             ...                        \n",
       "430    Oxygen Sensor Circuit – Bank 1 Sensor 2 Circui...\n",
       "431                        Series Throttle Control Error\n",
       "432                       Needle Lift Sensor Malfunction\n",
       "433              Fuel Pump Secondary Circuit Malfunction\n",
       "434       Engine Coolant Temperature Circuit Malfunction\n",
       "Name: Aciklama, Length: 435, dtype: object"
      ]
     },
     "execution_count": 31,
     "metadata": {},
     "output_type": "execute_result"
    }
   ],
   "source": [
    "birlesik"
   ]
  },
  {
   "cell_type": "code",
   "execution_count": 34,
   "id": "13d820a9-ca35-4e6f-9e59-f0af76f1d9bc",
   "metadata": {},
   "outputs": [],
   "source": [
    "birlesik.to_csv('birlesik_aciklama.csv', index=False, encoding='utf-8')  # index=False, indeksin dosyaya yazılmasını engeller"
   ]
  },
  {
   "cell_type": "code",
   "execution_count": null,
   "id": "4c32bf2e-2493-4f97-9fc0-91e38affcb80",
   "metadata": {},
   "outputs": [],
   "source": []
  }
 ],
 "metadata": {
  "kernelspec": {
   "display_name": "Python 3 (ipykernel)",
   "language": "python",
   "name": "python3"
  },
  "language_info": {
   "codemirror_mode": {
    "name": "ipython",
    "version": 3
   },
   "file_extension": ".py",
   "mimetype": "text/x-python",
   "name": "python",
   "nbconvert_exporter": "python",
   "pygments_lexer": "ipython3",
   "version": "3.11.5"
  }
 },
 "nbformat": 4,
 "nbformat_minor": 5
}
