{
 "cells": [
  {
   "cell_type": "code",
   "execution_count": 1,
   "id": "aa1dad63-d20f-42b8-aa3a-488cd3aa055e",
   "metadata": {},
   "outputs": [],
   "source": [
    "import nltk\n",
    "from nltk.tokenize import word_tokenize, sent_tokenize\n",
    "from nltk.corpus import stopwords\n",
    "from nltk.stem import WordNetLemmatizer, PorterStemmer\n",
    "import pandas as pd\n",
    "import numpy as np\n",
    "from sklearn.feature_extraction.text import TfidfVectorizer\n",
    "from sklearn.metrics.pairwise import cosine_similarity\n",
    "from nltk.stem import WordNetLemmatizer, PorterStemmer\n",
    "from nltk.tokenize import word_tokenize"
   ]
  },
  {
   "cell_type": "code",
   "execution_count": 2,
   "id": "9e7dbbf2-697a-4f93-952a-251d2e926766",
   "metadata": {},
   "outputs": [
    {
     "name": "stderr",
     "output_type": "stream",
     "text": [
      "[nltk_data] Downloading package punkt to\n",
      "[nltk_data]     C:\\Users\\Bilinmiyor\\AppData\\Roaming\\nltk_data...\n",
      "[nltk_data]   Package punkt is already up-to-date!\n",
      "[nltk_data] Downloading package stopwords to\n",
      "[nltk_data]     C:\\Users\\Bilinmiyor\\AppData\\Roaming\\nltk_data...\n",
      "[nltk_data]   Package stopwords is already up-to-date!\n",
      "[nltk_data] Downloading package wordnet to\n",
      "[nltk_data]     C:\\Users\\Bilinmiyor\\AppData\\Roaming\\nltk_data...\n",
      "[nltk_data]   Package wordnet is already up-to-date!\n"
     ]
    },
    {
     "data": {
      "text/plain": [
       "True"
      ]
     },
     "execution_count": 2,
     "metadata": {},
     "output_type": "execute_result"
    }
   ],
   "source": [
    "import nltk\n",
    "nltk.download('punkt')\n",
    "nltk.download('stopwords')\n",
    "nltk.download('wordnet')"
   ]
  },
  {
   "cell_type": "code",
   "execution_count": 5,
   "id": "b99c9e01-0f7a-46bc-ab92-552a8c663acf",
   "metadata": {},
   "outputs": [],
   "source": [
    "df= pd.read_csv(\"../data/stemmed_sentences.csv\")"
   ]
  },
  {
   "cell_type": "code",
   "execution_count": 6,
   "id": "101415f2-d6bf-4a5d-bddb-34686116c61c",
   "metadata": {},
   "outputs": [
    {
     "data": {
      "text/html": [
       "<div>\n",
       "<style scoped>\n",
       "    .dataframe tbody tr th:only-of-type {\n",
       "        vertical-align: middle;\n",
       "    }\n",
       "\n",
       "    .dataframe tbody tr th {\n",
       "        vertical-align: top;\n",
       "    }\n",
       "\n",
       "    .dataframe thead th {\n",
       "        text-align: right;\n",
       "    }\n",
       "</style>\n",
       "<table border=\"1\" class=\"dataframe\">\n",
       "  <thead>\n",
       "    <tr style=\"text-align: right;\">\n",
       "      <th></th>\n",
       "      <th>ntc sensor short circuit open circuit heater short circuit heater continu oper continu water intak error water drainag error motor triac short circuit water level sensor error motor open circuit aqua stop failur rins sensor ntc short circuit open circuit heater short circuit heater continu oper valv short circuit pump drain water motor short circuit water level sensor faulti pump short circuit door lock open circuit door lock short circuit motor wind open circuit aqua stop failur motor modul commun cabl faulti jet pump open circuit flow meter open short circuit rins sensor short circuit laundri remain foami unbalanc load machin safe water drainag level activ commun cabl fault lcd board main board door switch work load sensor work commun cabl fault control panel main board main board written read level sensor control flow meter control main voltag limit ntc short circuit open circuit air duct open flap close commun sensor dri heater open circuit overh drum overh condens inlet overh condens outlet ntc short circuit open circuit heater short circuit heater</th>\n",
       "    </tr>\n",
       "  </thead>\n",
       "  <tbody>\n",
       "    <tr>\n",
       "      <th>0</th>\n",
       "      <td>continu oper valv triac short circuit pump dra...</td>\n",
       "    </tr>\n",
       "    <tr>\n",
       "      <th>1</th>\n",
       "      <td>triac short circuit water level sensor faulti ...</td>\n",
       "    </tr>\n",
       "    <tr>\n",
       "      <th>2</th>\n",
       "      <td>door lock open circuit door triac short circui...</td>\n",
       "    </tr>\n",
       "    <tr>\n",
       "      <th>3</th>\n",
       "      <td>circuit water sourc error water temperatur sen...</td>\n",
       "    </tr>\n",
       "    <tr>\n",
       "      <th>4</th>\n",
       "      <td>level error water drainag error water suppli e...</td>\n",
       "    </tr>\n",
       "    <tr>\n",
       "      <th>...</th>\n",
       "      <td>...</td>\n",
       "    </tr>\n",
       "    <tr>\n",
       "      <th>141</th>\n",
       "      <td>lean load calcul cross check rang perform pro...</td>\n",
       "    </tr>\n",
       "    <tr>\n",
       "      <th>142</th>\n",
       "      <td>lean acceler fuel deliveri system malfunct hig...</td>\n",
       "    </tr>\n",
       "    <tr>\n",
       "      <th>143</th>\n",
       "      <td>sensor signal rang oxygen sensor circuit bank ...</td>\n",
       "    </tr>\n",
       "    <tr>\n",
       "      <th>144</th>\n",
       "      <td>voltag seri throttl control error needl lift s...</td>\n",
       "    </tr>\n",
       "    <tr>\n",
       "      <th>145</th>\n",
       "      <td>pump secondari circuit malfunct engin coolant ...</td>\n",
       "    </tr>\n",
       "  </tbody>\n",
       "</table>\n",
       "<p>146 rows × 1 columns</p>\n",
       "</div>"
      ],
      "text/plain": [
       "    ntc sensor short circuit open circuit heater short circuit heater continu oper continu water intak error water drainag error motor triac short circuit water level sensor error motor open circuit aqua stop failur rins sensor ntc short circuit open circuit heater short circuit heater continu oper valv short circuit pump drain water motor short circuit water level sensor faulti pump short circuit door lock open circuit door lock short circuit motor wind open circuit aqua stop failur motor modul commun cabl faulti jet pump open circuit flow meter open short circuit rins sensor short circuit laundri remain foami unbalanc load machin safe water drainag level activ commun cabl fault lcd board main board door switch work load sensor work commun cabl fault control panel main board main board written read level sensor control flow meter control main voltag limit ntc short circuit open circuit air duct open flap close commun sensor dri heater open circuit overh drum overh condens inlet overh condens outlet ntc short circuit open circuit heater short circuit heater \n",
       "0    continu oper valv triac short circuit pump dra...                                                                                                                                                                                                                                                                                                                                                                                                                                                                                                                                                                                                                                                                                                                                                                                                                                                                                                                                                                                                                                                            \n",
       "1    triac short circuit water level sensor faulti ...                                                                                                                                                                                                                                                                                                                                                                                                                                                                                                                                                                                                                                                                                                                                                                                                                                                                                                                                                                                                                                                            \n",
       "2    door lock open circuit door triac short circui...                                                                                                                                                                                                                                                                                                                                                                                                                                                                                                                                                                                                                                                                                                                                                                                                                                                                                                                                                                                                                                                            \n",
       "3    circuit water sourc error water temperatur sen...                                                                                                                                                                                                                                                                                                                                                                                                                                                                                                                                                                                                                                                                                                                                                                                                                                                                                                                                                                                                                                                            \n",
       "4    level error water drainag error water suppli e...                                                                                                                                                                                                                                                                                                                                                                                                                                                                                                                                                                                                                                                                                                                                                                                                                                                                                                                                                                                                                                                            \n",
       "..                                                 ...                                                                                                                                                                                                                                                                                                                                                                                                                                                                                                                                                                                                                                                                                                                                                                                                                                                                                                                                                                                                                                                            \n",
       "141   lean load calcul cross check rang perform pro...                                                                                                                                                                                                                                                                                                                                                                                                                                                                                                                                                                                                                                                                                                                                                                                                                                                                                                                                                                                                                                                            \n",
       "142  lean acceler fuel deliveri system malfunct hig...                                                                                                                                                                                                                                                                                                                                                                                                                                                                                                                                                                                                                                                                                                                                                                                                                                                                                                                                                                                                                                                            \n",
       "143  sensor signal rang oxygen sensor circuit bank ...                                                                                                                                                                                                                                                                                                                                                                                                                                                                                                                                                                                                                                                                                                                                                                                                                                                                                                                                                                                                                                                            \n",
       "144  voltag seri throttl control error needl lift s...                                                                                                                                                                                                                                                                                                                                                                                                                                                                                                                                                                                                                                                                                                                                                                                                                                                                                                                                                                                                                                                            \n",
       "145  pump secondari circuit malfunct engin coolant ...                                                                                                                                                                                                                                                                                                                                                                                                                                                                                                                                                                                                                                                                                                                                                                                                                                                                                                                                                                                                                                                            \n",
       "\n",
       "[146 rows x 1 columns]"
      ]
     },
     "execution_count": 6,
     "metadata": {},
     "output_type": "execute_result"
    }
   ],
   "source": [
    "df"
   ]
  },
  {
   "cell_type": "code",
   "execution_count": 7,
   "id": "7de88c27-d6da-45db-a175-4b473b1873fa",
   "metadata": {},
   "outputs": [
    {
     "name": "stdout",
     "output_type": "stream",
     "text": [
      "                                                   0\n",
      "0  continu oper valv triac short circuit pump dra...\n",
      "1  triac short circuit water level sensor faulti ...\n",
      "2  door lock open circuit door triac short circui...\n",
      "3  circuit water sourc error water temperatur sen...\n",
      "4  level error water drainag error water suppli e...\n"
     ]
    }
   ],
   "source": [
    "df.columns = [\"0\"]\n",
    "\n",
    "# NaN değerleri ve boş stringleri temizle\n",
    "df = df.dropna()\n",
    "df = df[df[\"0\"].str.strip() != \"\"]\n",
    "\n",
    "# Temizlenmiş ilk 5 cümleyi göster\n",
    "print(df.head())"
   ]
  },
  {
   "cell_type": "code",
   "execution_count": 8,
   "id": "fd278a11-8209-400e-9ab3-60d63c026c0a",
   "metadata": {},
   "outputs": [],
   "source": [
    "#Varsayalım ki DataFrame'iniz df ve açıklama '0' sütununda\n",
    "text = ' '.join(df['0'].astype(str).tolist())  # Tüm yorumları tek bir metin haline getir\n",
    "sentences = sent_tokenize(text)  # Metni cümlelere ayır"
   ]
  },
  {
   "cell_type": "code",
   "execution_count": 9,
   "id": "4f6907cd-d0b4-4c90-a6cb-3d5e87330c39",
   "metadata": {},
   "outputs": [],
   "source": [
    "# Stopwords listesini almak\n",
    "stop_words = set(stopwords.words('english'))"
   ]
  },
  {
   "cell_type": "code",
   "execution_count": 10,
   "id": "7a625ae0-8452-4653-abc5-4a4f87d1e85c",
   "metadata": {},
   "outputs": [],
   "source": [
    "from nltk.stem import WordNetLemmatizer, PorterStemmer\n",
    "from nltk.tokenize import word_tokenize\n",
    "\n",
    "# Lemmatizer ve Stemmer nesnelerini oluştur\n",
    "lemmatizer = WordNetLemmatizer()\n",
    "stemmer = PorterStemmer()\n",
    "# Kelimeleri tokenleştirip, lemmatize etme ve stemleme\n",
    "def preprocess_sentence(sentence):\n",
    "    tokens = word_tokenize(sentence)\n",
    "    filtered_tokens = [token.lower() for token in tokens if token.isalpha() and token.lower() not in stop_words]\n",
    "    lemmatized_tokens = [lemmatizer.lemmatize(token) for token in filtered_tokens]\n",
    "    stemmed_tokens = [stemmer.stem(token) for token in filtered_tokens]\n",
    "    return lemmatized_tokens, stemmed_tokens\n",
    "\n",
    "# Kullanım örneği\n",
    "tokenized_corpus_lemmatized = []\n",
    "tokenized_corpus_stemmed = []\n",
    "\n",
    "for sentence in sentences:\n",
    "    lemmatized_tokens, stemmed_tokens = preprocess_sentence(sentence)\n",
    "    tokenized_corpus_lemmatized.append(lemmatized_tokens)\n",
    "    tokenized_corpus_stemmed.append(stemmed_tokens)"
   ]
  },
  {
   "cell_type": "code",
   "execution_count": 11,
   "id": "bbeb2a52-dc1d-4d64-866c-dddf79072b8a",
   "metadata": {},
   "outputs": [],
   "source": [
    "from sklearn.feature_extraction.text import TfidfVectorizer"
   ]
  },
  {
   "cell_type": "code",
   "execution_count": 12,
   "id": "79016ab2-632a-4d4c-903d-7f2ed6951009",
   "metadata": {},
   "outputs": [
    {
     "data": {
      "text/plain": [
       "['continu oper valv triac short circuit pump drain water motor triac short circuit water level sensor faulti pump short circuit door lock open circuit door triac short circuit motor triac open circuit water sourc error water temperatur sensor error water level error water drainag error water suppli error electr error water temperatur high water temperatur low water heat error door open water fill error water pressur error water leakag error elev height limit exceed door open attempt move door open elev move overload condit brake releas brake system error jerk occur sudden stop vibrat deceler stop elev stop move error occur control unit power suppli error elev elev oper excess high temperatur cabin door lock system faulti driver fan error intern temperatur error control suppli error input phase error capacitor voltag error output phase error driver overh error dc overvoltag error ac overvoltag error dc overcurr error ac overcurr error brake error encod error low dc voltag error line frequenc error intern commun error softwar error input signal error output signal error output overload error driver overvoltag error driver undervoltag error dc voltag error dc current error driver overload error intern thermal protect trigger extern thermal protect trigger motor protect trigger temperatur sensor error fan failur processor failur dc bu voltag high dc bu voltag low input phase loss input voltag high input voltag low output phase loss output overcurr dc current high excess torqu softwar error hardwar error modul error commun error power suppli error temperatur sensor error fan failur input phase loss input voltag high input voltag low output phase loss output overcurr dc current high excess torqu softwar error hardwar error modul error commun error power suppli error temperatur sensor error fan failur input phase loss input voltag high input voltag low output phase loss output overcurr dc current high excess torqu softwar error hardwar error modul error commun error power suppli error high hydraul oil temperatur low hydraul oil level high hydraul oil level electr failur engin oil pressur low engin oil pressur high brake switch failur low oil pressur high oil pressur low fuel level hydraul oil filter clog hydraul oil filter pressur low hydraul oil filter pressur high fuel filter clog engin idl speed high engin idl speed low air filter clog air filter pressur low air filter pressur high hydraul oil temperatur high hydraul oil cooler clog water temperatur high water level low water level high fuel water separ clog oil cooler temperatur high oil cooler clog transmiss oil temperatur high transmiss oil level low transmiss oil level high transmiss oil filter clog transmiss oil filter pressur low transmiss oil filter pressur high left joystick failur right joystick failur left pedal failur right pedal failur left arm failur right arm failur left steer failur right steer failur steer drive motor failur safeti latch disabl cabin safeti lock failur left cheek failur right cheek failur left mirror failur right mirror failur front window failur overcurr overh low dc voltag dc error output phase loss phase error overspe excess torqu encod error power suppli error commun error control card error brake error low voltag voltag fluctuat air hose connect error air pressur detect air pressur excess high air pressur excess low cuff issu irregular heartbeat detect oper error air filter clog insuffici water level medic tube clog medic tube connect error nebul nozzl clog oper time exceed medic tube empti remov error usual specifi error code commun error hard disk error central processor error input output modul error softwar error overcurr overvoltag fan work intern overh extern overh driver error affect oper clear alarm inspect load temperatur perform repair unit output sensor control inspect load perform repair unit return sensor control inspect load perform repair unit oper low capac perform necessari repair unit oper low capac perform necessari repair unit oper low capac perform necessari repair multipl compart unit unit stop prevent damag repair immedi unit stop prevent damag tri repair immedi unit anoth sensor control repair unit stop prevent damag repair immedi check compart temperatur thermomet clear alarm repair load repair load motor start manual clear alarm tri tri continu oper mode repair necessari check belt tension water level control top engin oil perform repair necessari check fuel oper continu mode perform necessari repair check load perform necessari repair check load perform necessari repair unit stop prevent damag repair immedi unit stop prevent damag repair immedi check altern charg repair immedi check load perform necessari repair test complet check alarm unit defrost check load perform repair defrost damper stuck close repair immedi unit oper low capac work perform necessari repair unit stop prevent damag repair immedi check record engin rpm perform necessari repair check modul circuit breaker fuse perform repair check oper relay circuit perform repair check incom current inspect motor belt perform repair check top motor water level current revers voltag low excess load unit oper low temperatur inspect load perform necessari repair test high rpm check water level belt tension temporari high temperatur perform necessari repair temporari high temperatur perform necessari repair check tank fuel clean fuel system necessari oper low modul circuit repair load load obstruct airflow check load multipl compart sensor failur clutch belt slip perform necessari repair satellit commun work oper normal reset hour second protect circuit failur repair unabl heat perform repair low circuit heat perform necessari repair timeout shutdown test affect oper check engin rpm check batteri voltag amperag ammet calibr test unknown caus check fuel particular tri restart affect oper perform test clear alarm check engin oil level top oil oper low capac inspect load perform repair clear alarm tri inspect load perform repair affect oper way affect oper way affect oper way affect oper way retest processor may faulti repair processor may faulti repair processor may faulti repair processor may faulti repair clear alarm compressor protect trip repair compressor oper excess temperatur repair quickli stop prevent damag repair quickli low heat capac repair check alarm repair unit stop yellow alarm oper low capac perform repair check voltag check voltag check sensor number menu check suction pressur check circuit input check circuit input unit transport train test sensor check indic unit oper low heat mode unit oper low heat mode unit oper low capac alarm due compart door left open long close door clear alarm high output pressur output sensor high rpm protect unit oper low capac inspect load perform necessari repair microprocessor set unit urgent reset compart fan work perform necessari repair electr heat problem perform necessari repair stop prevent damag check alarm perform necessari repair check switch check circuit check circuit relay check circuit relay check circuit check circuit enter set temperatur check mainten hour check mainten hour check mainten hour check mainten hour check mainten hour check mainten hour check connect check spare output check damper motor heater sensor control sensor control heater start ignit cut low high batteri voltag ignit failur flame detector disabl short circuit overh sensor disabl short circuit fuel pump disabl short circuit blower motor flow error ignit spark plug disabl overh low fuel level engin heater lock insuffici fuel pump pressur excess batteri charg fuel suppli error flame sensor error combust error electr suppli error system oper normal error combust sensor ignit devic may faulti fuel suppli valv may faulti error occur combust air intak combust ga exhaust may restrict low batteri voltag ignit devic may faulti fuel suppli error insuffici fuel suppli pressur fuel pump fuel filter may faulti low fuel level insuffici fuel qualiti combust sensor ignit devic may faulti insuffici combust air combust air sensor faulti combust tube clog combust tube ventil hole clog combust sensor faulti issu combust sensor cabl fuel suppli pump faulti issu fuel suppli pump cabl maf air flow circuit rang perform problem maf air flow circuit low input maf air flow circuit high input integr circuit temperatur sensor high input engin temperatur sensor high input throttl posit sensor circuit low input throttl posit sensor circuit high input oxygen sensor circuit malfunct bank sensor oxygen sensor circuit slow respons bank sensor oxygen sensor heater circuit malfunct bank sensor fuel air mixtur lean bank fuel air mixtur rich bank random multipl cylind misfir detect cylind misfir detect cylind misfir detect cylind misfir detect cylind misfir detect cylind knock sensor circuit malfunct cylind knock sensor circuit low input cylind knock sensor circuit high input exhaust ga recircul circuit malfunct exhaust ga recircul circuit perform catalyt convert effici threshold bank evapor emiss control system malfunct evapor emiss control system perform small evapor emiss control system leak detect evapor emiss control system control valv circuit malfunct vehicl speed sensor circuit malfunct throttl control malfunct low charg condit camshaft posit actuat circuit bank air flow circuit mass volum rang perform problem system lean bank random multipl cylind misfir detect ignit distributor engin speed input circuit signal exhaust ga recircul flow insuffici detect catalyt convert system effici threshold bank evapor emiss control system malfunct evapor emiss control system leak detect larg leak idl control system rpm lower expect intern control modul memori checksum error gener control circuit malfunct transmiss control system malfunct output speed sensor circuit malfunct torqu convert clutch circuit malfunct shift solenoid malfunct mass air flow sensor rang fuel trim system lean fuel trim addit fuel system lean load calcul cross check rang perform problem fuel system lean acceler fuel deliveri system malfunct high fuel control bank sensor signal rang oxygen sensor circuit bank sensor circuit high voltag seri throttl control error needl lift sensor malfunct fuel pump secondari circuit malfunct engin coolant temperatur circuit malfunct']"
      ]
     },
     "execution_count": 12,
     "metadata": {},
     "output_type": "execute_result"
    }
   ],
   "source": [
    "# Ön işlenmiş token listelerini tekrar metne çeviriyoruz\n",
    "lemmatized_texts = [' '.join(tokens) for tokens in tokenized_corpus_lemmatized]\n",
    "\n",
    "lemmatized_texts[:3]\n"
   ]
  },
  {
   "cell_type": "code",
   "execution_count": 13,
   "id": "87be30b6-6fb5-4ccb-9e28-74bb4afb0b2e",
   "metadata": {},
   "outputs": [
    {
     "name": "stdout",
     "output_type": "stream",
     "text": [
      "         ac   acceler    actuat     addit    affect      air   airflow  \\\n",
      "0  0.010919  0.005459  0.005459  0.005459  0.038216  0.09827  0.005459   \n",
      "\n",
      "      alarm    altern     ammet  ...    vehicl    ventil    vibrat    voltag  \\\n",
      "0  0.065513  0.005459  0.005459  ...  0.005459  0.005459  0.005459  0.114648   \n",
      "\n",
      "      volum     water       way    window      work    yellow  \n",
      "0  0.005459  0.114648  0.021838  0.005459  0.021838  0.005459  \n",
      "\n",
      "[1 rows x 289 columns]\n"
     ]
    }
   ],
   "source": [
    "# TF-IDF vektörizerı başlatıyoruz\n",
    "vectorizer = TfidfVectorizer()\n",
    "\n",
    "# TF-IDF matrisini oluşturuyoruz\n",
    "#terim frekansları, belge frekanslarıni hesplar\n",
    "#TF-IDF vektörlerine dönüştürür\n",
    "tfidf_matrix = vectorizer.fit_transform(lemmatized_texts)\n",
    "\n",
    "## Kelimeleri alalım\n",
    "#F-IDF vektörleştirme işleminde kullanılan tüm kelimelerin essiz bir listesini döndürur\n",
    "feature_names = vectorizer.get_feature_names_out()\n",
    "\n",
    "# TF-IDF matrisini pandas DataFrame'e çevir-gorunurluk acisindan- calismasi kolay\n",
    "tfidf_df = pd.DataFrame(tfidf_matrix.toarray(), columns=feature_names)\n",
    "\n",
    "# İlk birkaç satırı gösterelim-ilk 5 cümle\n",
    "print(tfidf_df.head())\n",
    "\n",
    "#Her satır bir cümleyi temsil eder\n",
    "#Her sütun bir kelimeyi temsil eder\n",
    "#Hücreler ise o kelimenin o cümledeki TF-IDF skorudur - her cumle icin degisir-bakiniz:slaytlar"
   ]
  },
  {
   "cell_type": "code",
   "execution_count": 14,
   "id": "66c553e9-82ff-420d-be02-0048ebd8170d",
   "metadata": {},
   "outputs": [],
   "source": [
    "tfidf_df.to_csv('tfidf_stemmed.csv', index=False)"
   ]
  },
  {
   "cell_type": "code",
   "execution_count": null,
   "id": "e0616df7",
   "metadata": {},
   "outputs": [],
   "source": []
  }
 ],
 "metadata": {
  "kernelspec": {
   "display_name": "Python 3 (ipykernel)",
   "language": "python",
   "name": "python3"
  },
  "language_info": {
   "codemirror_mode": {
    "name": "ipython",
    "version": 3
   },
   "file_extension": ".py",
   "mimetype": "text/x-python",
   "name": "python",
   "nbconvert_exporter": "python",
   "pygments_lexer": "ipython3",
   "version": "3.11.5"
  }
 },
 "nbformat": 4,
 "nbformat_minor": 5
}
