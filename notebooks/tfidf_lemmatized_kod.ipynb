{
 "cells": [
  {
   "cell_type": "code",
   "execution_count": 38,
   "id": "74dc19d7-6a63-4a31-9db8-4d63aa1d4196",
   "metadata": {},
   "outputs": [],
   "source": [
    "import nltk\n",
    "from nltk.tokenize import word_tokenize, sent_tokenize\n",
    "from nltk.corpus import stopwords\n",
    "from nltk.stem import WordNetLemmatizer, PorterStemmer\n",
    "import pandas as pd\n",
    "import numpy as np\n",
    "from nltk.stem import WordNetLemmatizer\n",
    "lemmatizer = WordNetLemmatizer()"
   ]
  },
  {
   "cell_type": "code",
   "execution_count": 29,
   "id": "228b9ca1-8621-42c5-a361-77c69c0c37c8",
   "metadata": {},
   "outputs": [],
   "source": [
    "df= pd.read_csv(\"../data/lemmatized_sentences.csv\")"
   ]
  },
  {
   "cell_type": "code",
   "execution_count": 30,
   "id": "d319603a-1855-40e6-9c18-b8eaae0a970a",
   "metadata": {},
   "outputs": [
    {
     "data": {
      "text/html": [
       "<div>\n",
       "<style scoped>\n",
       "    .dataframe tbody tr th:only-of-type {\n",
       "        vertical-align: middle;\n",
       "    }\n",
       "\n",
       "    .dataframe tbody tr th {\n",
       "        vertical-align: top;\n",
       "    }\n",
       "\n",
       "    .dataframe thead th {\n",
       "        text-align: right;\n",
       "    }\n",
       "</style>\n",
       "<table border=\"1\" class=\"dataframe\">\n",
       "  <thead>\n",
       "    <tr style=\"text-align: right;\">\n",
       "      <th></th>\n",
       "      <th>ntc sensor short circuit open circuit heater short circuit heater continuously operating continuous water intake error water drainage error motor triac short circuit water level sensor error motor open circuit aqua stop failure rinse sensor ntc short circuit open circuit heater short circuit heater continuously operating valve short circuit pump draining water motor short circuit water level sensor faulty pump short circuit door lock open circuit door lock short circuit motor winding open circuit aqua stop failure motor module communication cable faulty jet pump open circuit flow meter open short circuit rinse sensor short circuit laundry remains foamy unbalanced load machine safe water drainage level activated communication cable fault lcd board main board door switch working load sensor working communication cable fault control panel main board main board written read level sensor control flow meter control main voltage limit ntc short circuit open circuit air duct open flap closed communication sensor drying heater open circuit overheating drum overheating condenser inlet overheating condenser outlet ntc short circuit open circuit heater short circuit heater continuously operating valve triac short circuit pump draining water motor triac short circuit water level sensor faulty pump short circuit door lock open circuit door triac short circuit motor triac open circuit water source error water temperature sensor error water level error water drainage error water supply error electrical error water temperature high water temperature low water heating error door open water filling error water pressure error water leakage error elevator height limit exceeded door opened attempted move door open elevator move overload condition brake released brake system error jerk occurred sudden stop vibration deceleration stopping elevator stopped moving error occurred control unit power supply error elevator elevator operate excessively high temperature cabin door lock system faulty driver fan error internal temperature error control supply error input phase error capacitor voltage error output phase error driver overheating error dc overvoltage error ac overvoltage error dc overcurrent error ac overcurrent error brake error encoder error low dc voltage error line frequency error internal communication error software error input signal error output signal error output overload error driver overvoltage error driver undervoltage error dc voltage error dc current error driver overload error internal thermal protection triggered external thermal protection triggered motor protection triggered temperature sensor error fan failure processor failure dc bus voltage high dc bus voltage low input phase loss input voltage high input voltage low output phase loss output overcurrent dc current high excessive torque software error hardware error module error communication error power supply error temperature sensor error fan failure input phase loss input voltage high input voltage low output phase loss output overcurrent dc current high excessive torque software error hardware error</th>\n",
       "    </tr>\n",
       "  </thead>\n",
       "  <tbody>\n",
       "    <tr>\n",
       "      <th>0</th>\n",
       "      <td>module error communication error power supply ...</td>\n",
       "    </tr>\n",
       "    <tr>\n",
       "      <th>1</th>\n",
       "      <td>temperature sensor error fan failure input pha...</td>\n",
       "    </tr>\n",
       "    <tr>\n",
       "      <th>2</th>\n",
       "      <td>input voltage high input voltage low output ph...</td>\n",
       "    </tr>\n",
       "    <tr>\n",
       "      <th>3</th>\n",
       "      <td>loss output overcurrent dc current high excess...</td>\n",
       "    </tr>\n",
       "    <tr>\n",
       "      <th>4</th>\n",
       "      <td>torque software error hardware error module er...</td>\n",
       "    </tr>\n",
       "    <tr>\n",
       "      <th>...</th>\n",
       "      <td>...</td>\n",
       "    </tr>\n",
       "    <tr>\n",
       "      <th>165</th>\n",
       "      <td>fuel delivery system malfunction high fuel con...</td>\n",
       "    </tr>\n",
       "    <tr>\n",
       "      <th>166</th>\n",
       "      <td>sensor signal range oxygen sensor circuit bank...</td>\n",
       "    </tr>\n",
       "    <tr>\n",
       "      <th>167</th>\n",
       "      <td>circuit high voltage series throttle control e...</td>\n",
       "    </tr>\n",
       "    <tr>\n",
       "      <th>168</th>\n",
       "      <td>lift sensor malfunction fuel pump secondary ci...</td>\n",
       "    </tr>\n",
       "    <tr>\n",
       "      <th>169</th>\n",
       "      <td>engine coolant temperature circuit malfunction</td>\n",
       "    </tr>\n",
       "  </tbody>\n",
       "</table>\n",
       "<p>170 rows × 1 columns</p>\n",
       "</div>"
      ],
      "text/plain": [
       "    ntc sensor short circuit open circuit heater short circuit heater continuously operating continuous water intake error water drainage error motor triac short circuit water level sensor error motor open circuit aqua stop failure rinse sensor ntc short circuit open circuit heater short circuit heater continuously operating valve short circuit pump draining water motor short circuit water level sensor faulty pump short circuit door lock open circuit door lock short circuit motor winding open circuit aqua stop failure motor module communication cable faulty jet pump open circuit flow meter open short circuit rinse sensor short circuit laundry remains foamy unbalanced load machine safe water drainage level activated communication cable fault lcd board main board door switch working load sensor working communication cable fault control panel main board main board written read level sensor control flow meter control main voltage limit ntc short circuit open circuit air duct open flap closed communication sensor drying heater open circuit overheating drum overheating condenser inlet overheating condenser outlet ntc short circuit open circuit heater short circuit heater continuously operating valve triac short circuit pump draining water motor triac short circuit water level sensor faulty pump short circuit door lock open circuit door triac short circuit motor triac open circuit water source error water temperature sensor error water level error water drainage error water supply error electrical error water temperature high water temperature low water heating error door open water filling error water pressure error water leakage error elevator height limit exceeded door opened attempted move door open elevator move overload condition brake released brake system error jerk occurred sudden stop vibration deceleration stopping elevator stopped moving error occurred control unit power supply error elevator elevator operate excessively high temperature cabin door lock system faulty driver fan error internal temperature error control supply error input phase error capacitor voltage error output phase error driver overheating error dc overvoltage error ac overvoltage error dc overcurrent error ac overcurrent error brake error encoder error low dc voltage error line frequency error internal communication error software error input signal error output signal error output overload error driver overvoltage error driver undervoltage error dc voltage error dc current error driver overload error internal thermal protection triggered external thermal protection triggered motor protection triggered temperature sensor error fan failure processor failure dc bus voltage high dc bus voltage low input phase loss input voltage high input voltage low output phase loss output overcurrent dc current high excessive torque software error hardware error module error communication error power supply error temperature sensor error fan failure input phase loss input voltage high input voltage low output phase loss output overcurrent dc current high excessive torque software error hardware error \n",
       "0    module error communication error power supply ...                                                                                                                                                                                                                                                                                                                                                                                                                                                                                                                                                                                                                                                                                                                                                                                                                                                                                                                                                                                                                                                                                                                                                                                                                                                                                                                                                                                                                                                                                                                                                                                                                                                                                                                                                                                                                                                                                                                                                                                                                                                                                                                                                                                                                                                                                                                                                                                                                                                                                                                                                                                                                                                                                                                                                                                                                                                                                                                                                                                                                                                                                                                                                                                      \n",
       "1    temperature sensor error fan failure input pha...                                                                                                                                                                                                                                                                                                                                                                                                                                                                                                                                                                                                                                                                                                                                                                                                                                                                                                                                                                                                                                                                                                                                                                                                                                                                                                                                                                                                                                                                                                                                                                                                                                                                                                                                                                                                                                                                                                                                                                                                                                                                                                                                                                                                                                                                                                                                                                                                                                                                                                                                                                                                                                                                                                                                                                                                                                                                                                                                                                                                                                                                                                                                                                                      \n",
       "2    input voltage high input voltage low output ph...                                                                                                                                                                                                                                                                                                                                                                                                                                                                                                                                                                                                                                                                                                                                                                                                                                                                                                                                                                                                                                                                                                                                                                                                                                                                                                                                                                                                                                                                                                                                                                                                                                                                                                                                                                                                                                                                                                                                                                                                                                                                                                                                                                                                                                                                                                                                                                                                                                                                                                                                                                                                                                                                                                                                                                                                                                                                                                                                                                                                                                                                                                                                                                                      \n",
       "3    loss output overcurrent dc current high excess...                                                                                                                                                                                                                                                                                                                                                                                                                                                                                                                                                                                                                                                                                                                                                                                                                                                                                                                                                                                                                                                                                                                                                                                                                                                                                                                                                                                                                                                                                                                                                                                                                                                                                                                                                                                                                                                                                                                                                                                                                                                                                                                                                                                                                                                                                                                                                                                                                                                                                                                                                                                                                                                                                                                                                                                                                                                                                                                                                                                                                                                                                                                                                                                      \n",
       "4    torque software error hardware error module er...                                                                                                                                                                                                                                                                                                                                                                                                                                                                                                                                                                                                                                                                                                                                                                                                                                                                                                                                                                                                                                                                                                                                                                                                                                                                                                                                                                                                                                                                                                                                                                                                                                                                                                                                                                                                                                                                                                                                                                                                                                                                                                                                                                                                                                                                                                                                                                                                                                                                                                                                                                                                                                                                                                                                                                                                                                                                                                                                                                                                                                                                                                                                                                                      \n",
       "..                                                 ...                                                                                                                                                                                                                                                                                                                                                                                                                                                                                                                                                                                                                                                                                                                                                                                                                                                                                                                                                                                                                                                                                                                                                                                                                                                                                                                                                                                                                                                                                                                                                                                                                                                                                                                                                                                                                                                                                                                                                                                                                                                                                                                                                                                                                                                                                                                                                                                                                                                                                                                                                                                                                                                                                                                                                                                                                                                                                                                                                                                                                                                                                                                                                                                      \n",
       "165  fuel delivery system malfunction high fuel con...                                                                                                                                                                                                                                                                                                                                                                                                                                                                                                                                                                                                                                                                                                                                                                                                                                                                                                                                                                                                                                                                                                                                                                                                                                                                                                                                                                                                                                                                                                                                                                                                                                                                                                                                                                                                                                                                                                                                                                                                                                                                                                                                                                                                                                                                                                                                                                                                                                                                                                                                                                                                                                                                                                                                                                                                                                                                                                                                                                                                                                                                                                                                                                                      \n",
       "166  sensor signal range oxygen sensor circuit bank...                                                                                                                                                                                                                                                                                                                                                                                                                                                                                                                                                                                                                                                                                                                                                                                                                                                                                                                                                                                                                                                                                                                                                                                                                                                                                                                                                                                                                                                                                                                                                                                                                                                                                                                                                                                                                                                                                                                                                                                                                                                                                                                                                                                                                                                                                                                                                                                                                                                                                                                                                                                                                                                                                                                                                                                                                                                                                                                                                                                                                                                                                                                                                                                      \n",
       "167  circuit high voltage series throttle control e...                                                                                                                                                                                                                                                                                                                                                                                                                                                                                                                                                                                                                                                                                                                                                                                                                                                                                                                                                                                                                                                                                                                                                                                                                                                                                                                                                                                                                                                                                                                                                                                                                                                                                                                                                                                                                                                                                                                                                                                                                                                                                                                                                                                                                                                                                                                                                                                                                                                                                                                                                                                                                                                                                                                                                                                                                                                                                                                                                                                                                                                                                                                                                                                      \n",
       "168  lift sensor malfunction fuel pump secondary ci...                                                                                                                                                                                                                                                                                                                                                                                                                                                                                                                                                                                                                                                                                                                                                                                                                                                                                                                                                                                                                                                                                                                                                                                                                                                                                                                                                                                                                                                                                                                                                                                                                                                                                                                                                                                                                                                                                                                                                                                                                                                                                                                                                                                                                                                                                                                                                                                                                                                                                                                                                                                                                                                                                                                                                                                                                                                                                                                                                                                                                                                                                                                                                                                      \n",
       "169     engine coolant temperature circuit malfunction                                                                                                                                                                                                                                                                                                                                                                                                                                                                                                                                                                                                                                                                                                                                                                                                                                                                                                                                                                                                                                                                                                                                                                                                                                                                                                                                                                                                                                                                                                                                                                                                                                                                                                                                                                                                                                                                                                                                                                                                                                                                                                                                                                                                                                                                                                                                                                                                                                                                                                                                                                                                                                                                                                                                                                                                                                                                                                                                                                                                                                                                                                                                                                                      \n",
       "\n",
       "[170 rows x 1 columns]"
      ]
     },
     "execution_count": 30,
     "metadata": {},
     "output_type": "execute_result"
    }
   ],
   "source": [
    "df"
   ]
  },
  {
   "cell_type": "code",
   "execution_count": 31,
   "id": "bbd35d52-8350-4ffa-a0f7-aa87896f5210",
   "metadata": {},
   "outputs": [
    {
     "name": "stdout",
     "output_type": "stream",
     "text": [
      "                                                   0\n",
      "0  module error communication error power supply ...\n",
      "1  temperature sensor error fan failure input pha...\n",
      "2  input voltage high input voltage low output ph...\n",
      "3  loss output overcurrent dc current high excess...\n",
      "4  torque software error hardware error module er...\n"
     ]
    }
   ],
   "source": [
    "df.columns = [\"0\"]\n",
    "\n",
    "# NaN değerleri ve boş stringleri temizle\n",
    "df = df.dropna()\n",
    "df = df[df[\"0\"].str.strip() != \"\"]\n",
    "\n",
    "# Temizlenmiş ilk 5 cümleyi göster\n",
    "print(df.head())"
   ]
  },
  {
   "cell_type": "code",
   "execution_count": 41,
   "id": "24203913-2a40-4603-ad61-8ab2f6b88faa",
   "metadata": {},
   "outputs": [],
   "source": [
    "\n",
    "text = ' '.join(df['0'].astype(str).tolist())  # Tüm yorumları tek bir metin haline getir\n",
    "sentences = sent_tokenize(text)  # Metni cümlelere ayır"
   ]
  },
  {
   "cell_type": "code",
   "execution_count": 42,
   "id": "cb2f94e2-2c57-40e9-a3f9-eedff6b1e159",
   "metadata": {},
   "outputs": [],
   "source": [
    "# Stopwords listesini almak\n",
    "stop_words = set(stopwords.words('english'))"
   ]
  },
  {
   "cell_type": "code",
   "execution_count": 51,
   "id": "fbaeb9a8",
   "metadata": {},
   "outputs": [],
   "source": [
    "from nltk.tokenize import word_tokenize\n",
    "from nltk.corpus import stopwords\n",
    "from nltk.stem import WordNetLemmatizer, PorterStemmer\n",
    "\n",
    "lemmatizer = WordNetLemmatizer()\n",
    "stemmer = PorterStemmer()\n",
    "stop_words = set(stopwords.words('english'))"
   ]
  },
  {
   "cell_type": "code",
   "execution_count": 52,
   "id": "baad3c0d-24ef-4e34-94e9-c8427bbde5d8",
   "metadata": {},
   "outputs": [],
   "source": [
    "# Kelimeleri tokenleştirip, lemmatize etme ve stemleme\n",
    "def preprocess_sentence(sentence):\n",
    "    tokens = word_tokenize(sentence)  # Cümleyi kelimelere ayır\n",
    "    # Sadece harf olan kelimeleri al ve stopword'leri çıkar\n",
    "    filtered_tokens = [token.lower() for token in tokens if token.isalpha() and token.lower() not in stop_words]\n",
    "    \n",
    "    lemmatized_tokens = [lemmatizer.lemmatize(token) for token in filtered_tokens]  # Lemmatize etme\n",
    "    stemmed_tokens = [stemmer.stem(token) for token in filtered_tokens]  # Stemleme\n",
    "    \n",
    "    return lemmatized_tokens, stemmed_tokens"
   ]
  },
  {
   "cell_type": "code",
   "execution_count": 53,
   "id": "3c56e691-c59a-4a76-86ca-e5e709e42836",
   "metadata": {},
   "outputs": [],
   "source": [
    "# Her cümleyi tokenleştir, lemmatize et ve stemle\n",
    "tokenized_corpus_lemmatized = []\n",
    "tokenized_corpus_stemmed = []"
   ]
  },
  {
   "cell_type": "code",
   "execution_count": 54,
   "id": "f2e98e86-6e5d-4a0d-8216-466508255620",
   "metadata": {},
   "outputs": [],
   "source": [
    "for sentence in sentences:\n",
    "    lemmatized_tokens, stemmed_tokens = preprocess_sentence(sentence)\n",
    "    tokenized_corpus_lemmatized.append(lemmatized_tokens)\n",
    "    tokenized_corpus_stemmed.append(stemmed_tokens)"
   ]
  },
  {
   "cell_type": "code",
   "execution_count": 55,
   "id": "d385386a-90b1-4d7b-b53a-e0e27eb340be",
   "metadata": {},
   "outputs": [],
   "source": [
    "from sklearn.feature_extraction.text import TfidfVectorizer"
   ]
  },
  {
   "cell_type": "code",
   "execution_count": 56,
   "id": "0ece1b4d-13d7-4fda-ac0c-93563fb4439e",
   "metadata": {},
   "outputs": [
    {
     "data": {
      "text/plain": [
       "['module error communication error power supply error temperature sensor error fan failure input phase loss input voltage high input voltage low output phase loss output overcurrent dc current high excessive torque software error hardware error module error communication error power supply error high hydraulic oil temperature low hydraulic oil level high hydraulic oil level electrical failure engine oil pressure low engine oil pressure high brake switch failure low oil pressure high oil pressure low fuel level hydraulic oil filter clogged hydraulic oil filter pressure low hydraulic oil filter pressure high fuel filter clogged engine idle speed high engine idle speed low air filter clogged air filter pressure low air filter pressure high hydraulic oil temperature high hydraulic oil cooler clogged water temperature high water level low water level high fuel water separator clogged oil cooler temperature high oil cooler clogged transmission oil temperature high transmission oil level low transmission oil level high transmission oil filter clogged transmission oil filter pressure low transmission oil filter pressure high left joystick failure right joystick failure left pedal failure right pedal failure left arm failure right arm failure left steering failure right steering failure steering drive motor failure safety latch disabled cabin safety lock failure left cheek failure right cheek failure left mirror failure right mirror failure front window failure overcurrent overheating low dc voltage dc error output phase loss phase error overspeed excessive torque encoder error power supply error communication error control card error brake error low voltage voltage fluctuation air hose connection error air pressure detected air pressure excessively high air pressure excessively low cuff issue irregular heartbeat detected operation error air filter clogged insufficient water level medication tube clogged medication tube connection error nebulization nozzle clogged operating time exceeded medication tube empty removed error usually specified error code communication error hard disk error central processor error input output module error software error overcurrent overvoltage fan working internal overheating external overheating driver error affect operation clear alarm inspect load temperature perform repair unit output sensor control inspect load perform repair unit return sensor control inspect load perform repair unit operating low capacity perform necessary repair unit operating low capacity perform necessary repair unit operating low capacity perform necessary repair multiple compartment unit unit stopped prevent damage repair immediately unit stopped prevent damage try repair immediately unit another sensor control repair unit stopped prevent damage repair immediately check compartment temperature thermometer clear alarm repair load repair load motor start manually clear alarm try try continuous operation mode repair necessary check belt tension water level control top engine oil perform repair necessary check fuel operate continuous mode perform necessary repair check load perform necessary repair check load perform necessary repair unit stopped prevent damage repair immediately unit stopped prevent damage repair immediately check alternator charging repair immediately check load perform necessary repair test completed check alarm unit defrosting check load perform repair defrost damper stuck closed repair immediately unit operating low capacity working perform necessary repair unit stopped prevent damage repair immediately check record engine rpm perform necessary repair check modulation circuit breaker fuse perform repair check operating relay circuit perform repair check incoming current inspect motor belt perform repair check top motor water level current reversed voltage low excessive load unit operating low temperature inspect load perform necessary repair test high rpm check water level belt tension temporary high temperature perform necessary repair temporary high temperature perform necessary repair check tank fuel clean fuel system necessary operating low modulation circuit repair load load obstructing airflow check loading multiple compartment sensor failure clutch belt slipping perform necessary repair satellite communication working operation normal reset hour second protection circuit failure repair unable heat perform repair low circuit heating perform necessary repair timeout shutdown test affect operation check engine rpm check battery voltage amperage ammeter calibration test unknown cause check fuel particular try restarting affect operation perform test clear alarm check engine oil level top oil operating low capacity inspect load perform repair clear alarm try inspect load perform repair affect operation way affect operation way affect operation way affect operation way retest processor may faulty repaired processor may faulty repaired processor may faulty repaired processor may faulty repaired clear alarm compressor protection tripped repaired compressor operating excessive temperature repair quickly stopped prevent damage repair quickly low heating capacity repaired check alarm repair unit stop yellow alarm operating low capacity perform repair check voltage check voltage check sensor number menu check suction pressure check circuit input check circuit input unit transported train test sensor check indicator unit operating low heating mode unit operating low heating mode unit operating low capacity alarm due compartment door left open long close door clear alarm high output pressure output sensor high rpm protection unit operating low capacity inspect load perform necessary repair microprocessor set unit urgently reset compartment fan working perform necessary repair electric heating problem perform necessary repair stopped prevent damage check alarm perform necessary repair check switch check circuit check circuit relay check circuit relay check circuit check circuit enter set temperature check maintenance hour check maintenance hour check maintenance hour check maintenance hour check maintenance hour check maintenance hour check connection check spare output check damper motor heater sensor control sensor control heater start ignition cut low high battery voltage ignition failure flame detector disabled short circuit overheating sensor disabled short circuit fuel pump disabled short circuit blower motor flow error ignition spark plug disabled overheating low fuel level engine heater locked insufficient fuel pump pressure excessive battery charge fuel supply error flame sensor error combustion error electrical supply error system operating normally error combustion sensor ignition device may faulty fuel supply valve may faulty error occurred combustion air intake combustion gas exhaust may restricted low battery voltage ignition device may faulty fuel supply error insufficient fuel supply pressure fuel pump fuel filter may faulty low fuel level insufficient fuel quality combustion sensor ignition device may faulty insufficient combustion air combustion air sensor faulty combustion tube clogged combustion tube ventilation hole clogged combustion sensor faulty issue combustion sensor cable fuel supply pump faulty issue fuel supply pump cable maf air flow circuit range performance problem maf air flow circuit low input maf air flow circuit high input integrated circuit temperature sensor high input engine temperature sensor high input throttle position sensor circuit low input throttle position sensor circuit high input oxygen sensor circuit malfunction bank sensor oxygen sensor circuit slow response bank sensor oxygen sensor heater circuit malfunction bank sensor fuel air mixture lean bank fuel air mixture rich bank random multiple cylinder misfire detected cylinder misfire detected cylinder misfire detected cylinder misfire detected cylinder misfire detected cylinder knock sensor circuit malfunction cylinder knock sensor circuit low input cylinder knock sensor circuit high input exhaust gas recirculation circuit malfunction exhaust gas recirculation circuit performance catalytic converter efficiency threshold bank evaporative emission control system malfunction evaporative emission control system performance small evaporative emission control system leak detected evaporative emission control system control valve circuit malfunction vehicle speed sensor circuit malfunction throttle control malfunction low charge condition camshaft position actuator circuit bank air flow circuit mass volume range performance problem system lean bank random multiple cylinder misfire detected ignition distributor engine speed input circuit signal exhaust gas recirculation flow insufficient detected catalytic converter system efficiency threshold bank evaporative emission control system malfunction evaporative emission control system leak detected large leak idle control system rpm lower expected internal control module memory checksum error generator control circuit malfunction transmission control system malfunction output speed sensor circuit malfunction torque converter clutch circuit malfunction shift solenoid malfunction mass air flow sensor range fuel trim system lean fuel trim additional fuel system lean load calculation cross check range performance problem fuel system lean acceleration fuel delivery system malfunction high fuel control bank sensor signal range oxygen sensor circuit bank sensor circuit high voltage series throttle control error needle lift sensor malfunction fuel pump secondary circuit malfunction engine coolant temperature circuit malfunction']"
      ]
     },
     "execution_count": 56,
     "metadata": {},
     "output_type": "execute_result"
    }
   ],
   "source": [
    "# Ön işlenmiş token listelerini tekrar metne çeviriyoruz\n",
    "lemmatized_texts = [' '.join(tokens) for tokens in tokenized_corpus_lemmatized]\n",
    "\n",
    "lemmatized_texts[:3]\n"
   ]
  },
  {
   "cell_type": "code",
   "execution_count": 57,
   "id": "d208a878-8270-4558-a5e4-ef48b74ccf9b",
   "metadata": {},
   "outputs": [
    {
     "name": "stdout",
     "output_type": "stream",
     "text": [
      "   acceleration  actuator  additional    affect       air   airflow     alarm  \\\n",
      "0      0.006805  0.006805    0.006805  0.047634  0.122489  0.006805  0.081659   \n",
      "\n",
      "   alternator   ammeter  amperage  ...    valve   vehicle  ventilation  \\\n",
      "0    0.006805  0.006805  0.006805  ...  0.01361  0.006805     0.006805   \n",
      "\n",
      "    voltage    volume     water      way    window  working    yellow  \n",
      "0  0.081659  0.006805  0.054439  0.02722  0.006805  0.02722  0.006805  \n",
      "\n",
      "[1 rows x 279 columns]\n"
     ]
    }
   ],
   "source": [
    "# TF-IDF vektörizerı başlatıyoruz\n",
    "vectorizer = TfidfVectorizer()\n",
    "\n",
    "# TF-IDF matrisini oluşturuyoruz\n",
    "#terim frekansları, belge frekanslarıni hesplar\n",
    "#TF-IDF vektörlerine dönüştürür\n",
    "tfidf_matrix = vectorizer.fit_transform(lemmatized_texts)\n",
    "\n",
    "## Kelimeleri alalım\n",
    "#F-IDF vektörleştirme işleminde kullanılan tüm kelimelerin essiz bir listesini döndürur\n",
    "feature_names = vectorizer.get_feature_names_out()\n",
    "\n",
    "# TF-IDF matrisini pandas DataFrame'e çevir-gorunurluk acisindan- calismasi kolay\n",
    "tfidf_df = pd.DataFrame(tfidf_matrix.toarray(), columns=feature_names)\n",
    "\n",
    "# İlk birkaç satırı gösterelim-ilk 5 cümle\n",
    "print(tfidf_df.head())\n",
    "\n",
    "#Her satır bir cümleyi temsil eder\n",
    "#Her sütun bir kelimeyi temsil eder\n",
    "#Hücreler ise o kelimenin o cümledeki TF-IDF skorudur - her cumle icin degisir-bakiniz:slaytlar"
   ]
  },
  {
   "cell_type": "code",
   "execution_count": 58,
   "id": "1bcd68af-204d-4acd-abff-443107de7656",
   "metadata": {},
   "outputs": [],
   "source": [
    "tfidf_df.to_csv('tfidf_lemmatized1.csv', index=False)"
   ]
  },
  {
   "cell_type": "code",
   "execution_count": 59,
   "id": "741d848a-1efc-43c7-aa95-7c304513aa84",
   "metadata": {},
   "outputs": [
    {
     "name": "stdout",
     "output_type": "stream",
     "text": [
      "İlk cümlede en yüksek TF-IDF skoruna sahip 5 kelime:\n",
      "repair         0.319832\n",
      "check          0.313027\n",
      "circuit        0.279002\n",
      "error          0.251782\n",
      "low            0.251782\n",
      "sensor         0.251782\n",
      "perform        0.210953\n",
      "high           0.204148\n",
      "fuel           0.197343\n",
      "unit           0.156513\n",
      "oil            0.156513\n",
      "necessary      0.142903\n",
      "control        0.142903\n",
      "failure        0.142903\n",
      "malfunction    0.122489\n",
      "Name: 0, dtype: float64\n"
     ]
    }
   ],
   "source": [
    "# İlk cümle için TF-IDF skorlarını al\n",
    "first_sentence_vector = tfidf_df.iloc[0]\n",
    "\n",
    "# Skorlara göre sırala (yüksekten düşüğe)\n",
    "top_5_words = first_sentence_vector.sort_values(ascending=False).head(15)\n",
    "\n",
    "# Sonucu yazdır\n",
    "print(\"İlk cümlede en yüksek TF-IDF skoruna sahip 5 kelime:\")\n",
    "print(top_5_words)"
   ]
  },
  {
   "cell_type": "code",
   "execution_count": 60,
   "id": "e837336c-07ac-49e8-a2b7-0ff26bf4dc24",
   "metadata": {},
   "outputs": [],
   "source": [
    "from sklearn.metrics.pairwise import cosine_similarity"
   ]
  },
  {
   "cell_type": "code",
   "execution_count": 65,
   "id": "26604a22-2e47-4d37-980c-7dc4f60e3344",
   "metadata": {},
   "outputs": [
    {
     "name": "stdout",
     "output_type": "stream",
     "text": [
      "yellow: 1.0000\n",
      "flame: 1.0000\n",
      "expected: 1.0000\n",
      "external: 1.0000\n",
      "failure: 1.0000\n",
      "fan: 1.0000\n"
     ]
    }
   ],
   "source": [
    "check_index = feature_names.tolist().index('check')  # 'check' kelimesinin indeksini bul\n",
    "\n",
    "#TF-IDF vektörünü alıyoruz ve 2D formatta yapıyoruz\n",
    "check_vector = tfidf_matrix[:, check_index].toarray()\n",
    "\n",
    "# Tüm kelimelerin TF-IDF vektörlerini alıyoruz\n",
    "tfidf_vectors = tfidf_matrix.toarray()\n",
    "\n",
    "# Cosine similarity hesaplayalım\n",
    "similarities = cosine_similarity(check_vector.T, tfidf_vectors.T)\n",
    "\n",
    "# Benzerlikleri sıralayalım ve en yüksek 5 kelimeyi seçelim\n",
    "similarities = similarities.flatten()\n",
    "top_5_indices = similarities.argsort()[-6:][::-1]  # 6. en büyükten başlıyoruz çünkü kendisi de dahil\n",
    "\n",
    "# Sonuçları yazdıralım\n",
    "for index in top_5_indices:\n",
    "    print(f\"{feature_names[index]}: {similarities[index]:.4f}\")"
   ]
  },
  {
   "cell_type": "code",
   "execution_count": null,
   "id": "6c5c72d4-83bf-4a4c-8cd1-92c5e3863e0d",
   "metadata": {},
   "outputs": [],
   "source": []
  }
 ],
 "metadata": {
  "kernelspec": {
   "display_name": "Python 3 (ipykernel)",
   "language": "python",
   "name": "python3"
  },
  "language_info": {
   "codemirror_mode": {
    "name": "ipython",
    "version": 3
   },
   "file_extension": ".py",
   "mimetype": "text/x-python",
   "name": "python",
   "nbconvert_exporter": "python",
   "pygments_lexer": "ipython3",
   "version": "3.11.5"
  }
 },
 "nbformat": 4,
 "nbformat_minor": 5
}
